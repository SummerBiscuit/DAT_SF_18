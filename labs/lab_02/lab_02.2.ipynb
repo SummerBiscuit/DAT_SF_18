{
 "cells": [
  {
   "cell_type": "markdown",
   "metadata": {},
   "source": [
    "# Linear Algebra"
   ]
  },
  {
   "cell_type": "markdown",
   "metadata": {},
   "source": [
    "#### Importing Packages\n",
    "Python has an extensive collection of third-party libraries, or ***packages***, with additional functions, data-structures, etc.  Many (most?) packages of interest are hosted on the Python Package Index ***pypi***, and can be installed into your environment using ***pip***.  The Anaconda distribution in the pre-work includes a number of these that are useful in data science, so you should have most of them installed already.  \n",
    "\n",
    "ref:  https://pypi.python.org/pypi"
   ]
  },
  {
   "cell_type": "markdown",
   "metadata": {},
   "source": [
    "A note on namespaces when importing - there are a few different ways to import:\n",
    "\n",
    "    1. import numpy\n",
    "\n",
    "    - all submodules of numpy are accessible in the numpy namespace\n",
    "    - e.g. numpy.array([1,2,3])\n",
    "\n",
    "\n",
    "    2. import numpy as np\n",
    "\n",
    "    - same as 1 except an alias 'np' is created for the namespace instead\n",
    "    - e.g. np.array([1,2,3])\n",
    "\n",
    "\n",
    "    3. from numpy import *\n",
    "\n",
    "    - adds all submodules to global namespace\n",
    "    - e.g. array([1,2,3])\n",
    "    - Note: This can be dangerous because if different modules have submodules with the same name than whatever is imported last will overrite what came before it - i.e. naming collision -> overwriting!.\n",
    "    \n",
    "    4. from numpy import array\n",
    "    \n",
    "    - will import only the indicated submodules into the global namespace\n",
    "    - e.g. array([1,2,3])\n",
    "    - Note: can be ok since you are being explicit\n",
    "    \n",
    "    We will generally use 2 and 4 (sparingly)"
   ]
  },
  {
   "cell_type": "markdown",
   "metadata": {
    "collapsed": true
   },
   "source": [
    "### NumPy\n",
    "\n",
    "As we've seen in lecture, linear algebra is the branch of mathematics describing navigation between different vector spaces. This core concept is very important as various data science techniques rely upon it (e.g. Linear Regression, Support Vector Machines, Recommender Systems, Neural Networks).\n",
    "\n",
    "NumPy is a package designed to be used in scientific computing, and specifically around building and manipulating N-dimensional array objects."
   ]
  },
  {
   "cell_type": "code",
   "execution_count": 4,
   "metadata": {
    "collapsed": false
   },
   "outputs": [],
   "source": [
    "import numpy\n",
    "\n",
    "import numpy as np\n",
    "\n",
    "from numpy import absolute\n",
    "\n",
    "# The next one is dangerous to do, and not recommended \n",
    "# except in cases where you know why you're using it\n",
    "# from numpy import *"
   ]
  },
  {
   "cell_type": "markdown",
   "metadata": {},
   "source": [
    "Now we can do the same thing three ways"
   ]
  },
  {
   "cell_type": "code",
   "execution_count": 7,
   "metadata": {
    "collapsed": false
   },
   "outputs": [
    {
     "name": "stdout",
     "output_type": "stream",
     "text": [
      "10\n",
      "10\n",
      "10\n"
     ]
    }
   ],
   "source": [
    "print numpy.absolute(-10)\n",
    "print np.absolute(-10)\n",
    "print absolute(-10)"
   ]
  },
  {
   "cell_type": "markdown",
   "metadata": {},
   "source": [
    "We can create the Linear Algebra Objects we saw in lecture"
   ]
  },
  {
   "cell_type": "code",
   "execution_count": 13,
   "metadata": {
    "collapsed": false
   },
   "outputs": [],
   "source": [
    "vector = np.array([1, 2, 1]) # 3 by 1 vector; column vector"
   ]
  },
  {
   "cell_type": "code",
   "execution_count": 9,
   "metadata": {
    "collapsed": false
   },
   "outputs": [
    {
     "data": {
      "text/plain": [
       "array([[1, 2, 3],\n",
       "       [2, 4, 9]])"
      ]
     },
     "execution_count": 9,
     "metadata": {},
     "output_type": "execute_result"
    }
   ],
   "source": [
    "data = np.array([[1, 2, 3],[2, 4, 9]])\n",
    "data"
   ]
  },
  {
   "cell_type": "code",
   "execution_count": 10,
   "metadata": {
    "collapsed": false
   },
   "outputs": [
    {
     "data": {
      "text/plain": [
       "array([1, 2, 3])"
      ]
     },
     "execution_count": 10,
     "metadata": {},
     "output_type": "execute_result"
    }
   ],
   "source": [
    "data[0]  # first row"
   ]
  },
  {
   "cell_type": "code",
   "execution_count": 11,
   "metadata": {
    "collapsed": false
   },
   "outputs": [
    {
     "data": {
      "text/plain": [
       "array([2, 4])"
      ]
     },
     "execution_count": 11,
     "metadata": {},
     "output_type": "execute_result"
    }
   ],
   "source": [
    "data[ : , 1]  # all rows, second column"
   ]
  },
  {
   "cell_type": "markdown",
   "metadata": {},
   "source": [
    "Numpy lets us perform matrix operations"
   ]
  },
  {
   "cell_type": "code",
   "execution_count": 12,
   "metadata": {
    "collapsed": false
   },
   "outputs": [
    {
     "data": {
      "text/plain": [
       "array([ 8, 19])"
      ]
     },
     "execution_count": 12,
     "metadata": {},
     "output_type": "execute_result"
    }
   ],
   "source": [
    "np.dot(data, vector)"
   ]
  },
  {
   "cell_type": "markdown",
   "metadata": {},
   "source": [
    "We can transpose an array"
   ]
  },
  {
   "cell_type": "code",
   "execution_count": 14,
   "metadata": {
    "collapsed": false
   },
   "outputs": [
    {
     "name": "stdout",
     "output_type": "stream",
     "text": [
      "[[1 2 3]\n",
      " [2 4 9]]\n",
      "[[1 2]\n",
      " [2 4]\n",
      " [3 9]]\n"
     ]
    }
   ],
   "source": [
    "print data\n",
    "print data.T"
   ]
  },
  {
   "cell_type": "markdown",
   "metadata": {},
   "source": [
    "#### Creating a square matrix array"
   ]
  },
  {
   "cell_type": "code",
   "execution_count": 15,
   "metadata": {
    "collapsed": false
   },
   "outputs": [
    {
     "data": {
      "text/plain": [
       "array([[ 0,  1,  2,  3,  4],\n",
       "       [ 5,  6,  7,  8,  9],\n",
       "       [10, 11, 12, 13, 14],\n",
       "       [15, 16, 17, 18, 19],\n",
       "       [20, 21, 22, 23, 24]])"
      ]
     },
     "execution_count": 15,
     "metadata": {},
     "output_type": "execute_result"
    }
   ],
   "source": [
    "a = np.arange(25).reshape(5,5)\n",
    "# arange(n) is a function that creates a 1 row array of integers of length n \n",
    "# reshape(M,N) is a method converts a list to a matrix of size MxN\n",
    "a"
   ]
  },
  {
   "cell_type": "code",
   "execution_count": 16,
   "metadata": {
    "collapsed": false
   },
   "outputs": [
    {
     "data": {
      "text/plain": [
       "array([[  0,  10,  20,  30,  40],\n",
       "       [ 50,  60,  70,  80,  90],\n",
       "       [100, 110, 120, 130, 140],\n",
       "       [150, 160, 170, 180, 190],\n",
       "       [200, 210, 220, 230, 240]])"
      ]
     },
     "execution_count": 16,
     "metadata": {},
     "output_type": "execute_result"
    }
   ],
   "source": [
    "biga = a*10\n",
    "biga"
   ]
  },
  {
   "cell_type": "code",
   "execution_count": 18,
   "metadata": {
    "collapsed": false
   },
   "outputs": [
    {
     "name": "stdout",
     "output_type": "stream",
     "text": [
      "120.0\n",
      "[ 100.  110.  120.  130.  140.]\n",
      "[ 100.  110.  120.  130.  140.]\n"
     ]
    },
    {
     "data": {
      "text/plain": [
       "array([  20.,   70.,  120.,  170.,  220.])"
      ]
     },
     "execution_count": 18,
     "metadata": {},
     "output_type": "execute_result"
    }
   ],
   "source": [
    "print biga.mean() #Take all of the data and take the average\n",
    "print biga.mean(0) #Average per column\n",
    "print biga.mean(axis=0) #Average per column\n",
    "biga.mean(1) #average per row\n",
    "# type(biga.mean(1))"
   ]
  },
  {
   "cell_type": "markdown",
   "metadata": {},
   "source": [
    "Creating a matrix with numpy"
   ]
  },
  {
   "cell_type": "code",
   "execution_count": 19,
   "metadata": {
    "collapsed": false
   },
   "outputs": [
    {
     "data": {
      "text/plain": [
       "matrix([[-20, -10,   0,  10,  20],\n",
       "        [ 30,  40,  50,  60,  70],\n",
       "        [ 80,  90, 100, 110, 120],\n",
       "        [130, 140, 150, 160, 170],\n",
       "        [180, 190, 200, 210, 220]])"
      ]
     },
     "execution_count": 19,
     "metadata": {},
     "output_type": "execute_result"
    }
   ],
   "source": [
    "bigm = np.matrix(biga-20)\n",
    "bigm"
   ]
  },
  {
   "cell_type": "markdown",
   "metadata": {},
   "source": [
    "Creating the Inverse of a Matrix"
   ]
  },
  {
   "cell_type": "code",
   "execution_count": 20,
   "metadata": {
    "collapsed": false
   },
   "outputs": [
    {
     "data": {
      "text/plain": [
       "array([[ -2.81474977e+13,   2.22222222e-02,   5.62949953e+13,\n",
       "          0.00000000e+00,  -2.81474977e+13],\n",
       "       [  3.51843721e+13,   0.00000000e+00,  -5.27765581e+13,\n",
       "         -3.51843721e+13,   5.27765581e+13],\n",
       "       [ -4.22212465e+13,   9.38249922e+13,  -7.97512434e+13,\n",
       "          4.69124961e+13,  -1.87649984e+13],\n",
       "       [  9.14793674e+13,  -1.87649984e+14,   9.26521798e+13,\n",
       "          1.17281240e+13,  -8.20968682e+12],\n",
       "       [ -5.62949953e+13,   9.38249922e+13,  -1.64193736e+13,\n",
       "         -2.34562481e+13,   2.34562481e+12]])"
      ]
     },
     "execution_count": 20,
     "metadata": {},
     "output_type": "execute_result"
    }
   ],
   "source": [
    "np.linalg.inv(biga-20)"
   ]
  },
  {
   "cell_type": "markdown",
   "metadata": {},
   "source": [
    "#### Slices"
   ]
  },
  {
   "cell_type": "code",
   "execution_count": 21,
   "metadata": {
    "collapsed": false
   },
   "outputs": [
    {
     "name": "stdout",
     "output_type": "stream",
     "text": [
      "[[-20 -10   0  10  20]\n",
      " [ 30  40  50  60  70]\n",
      " [ 80  90 100 110 120]\n",
      " [130 140 150 160 170]\n",
      " [180 190 200 210 220]]\n"
     ]
    },
    {
     "data": {
      "text/plain": [
       "array([-20, -10,   0,  10,  20])"
      ]
     },
     "execution_count": 21,
     "metadata": {},
     "output_type": "execute_result"
    }
   ],
   "source": [
    "bigm = np.array(bigm) #cast it back to an array. This is something you'll use because certain function only takes certain data type\n",
    "print bigm\n",
    "bigm[0] # brings out the first array"
   ]
  },
  {
   "cell_type": "code",
   "execution_count": 25,
   "metadata": {
    "collapsed": false
   },
   "outputs": [
    {
     "name": "stdout",
     "output_type": "stream",
     "text": [
      "[[  0  10  20  30  40]\n",
      " [ 50  60  70  80  90]\n",
      " [100 110 120 130 140]\n",
      " [150 160 170 180 190]\n",
      " [200 210 220 230 240]]\n"
     ]
    },
    {
     "data": {
      "text/plain": [
       "70"
      ]
     },
     "execution_count": 25,
     "metadata": {},
     "output_type": "execute_result"
    }
   ],
   "source": [
    "#Same thing, but demonstrating the full slice with a colon\n",
    "print biga\n",
    "biga[0,:]\n",
    "biga[:,2]\n",
    "biga[1,2]"
   ]
  },
  {
   "cell_type": "markdown",
   "metadata": {},
   "source": [
    "#### Describing your Arrays"
   ]
  },
  {
   "cell_type": "code",
   "execution_count": 26,
   "metadata": {
    "collapsed": false
   },
   "outputs": [
    {
     "data": {
      "text/plain": [
       "array([[[ 0,  1],\n",
       "        [ 2,  3],\n",
       "        [ 4,  5]],\n",
       "\n",
       "       [[ 6,  7],\n",
       "        [ 8,  9],\n",
       "        [10, 11]],\n",
       "\n",
       "       [[12, 13],\n",
       "        [14, 15],\n",
       "        [16, 17]],\n",
       "\n",
       "       [[18, 19],\n",
       "        [20, 21],\n",
       "        [22, 23]],\n",
       "\n",
       "       [[24, 25],\n",
       "        [26, 27],\n",
       "        [28, 29]]])"
      ]
     },
     "execution_count": 26,
     "metadata": {},
     "output_type": "execute_result"
    }
   ],
   "source": [
    "compa = np.arange(30).reshape(5,3,2) #5 3 by 2 matrices\n",
    "compa"
   ]
  },
  {
   "cell_type": "code",
   "execution_count": 27,
   "metadata": {
    "collapsed": false
   },
   "outputs": [
    {
     "name": "stdout",
     "output_type": "stream",
     "text": [
      "(5, 3, 2)\n",
      "3\n",
      "int64\n"
     ]
    }
   ],
   "source": [
    "# lets describe it\n",
    "print compa.shape\n",
    "print compa.ndim\n",
    "print compa.dtype"
   ]
  },
  {
   "cell_type": "code",
   "execution_count": 28,
   "metadata": {
    "collapsed": false
   },
   "outputs": [
    {
     "data": {
      "text/plain": [
       "array([19, 21, 23])"
      ]
     },
     "execution_count": 28,
     "metadata": {},
     "output_type": "execute_result"
    }
   ],
   "source": [
    "compa[3,:,1] #4th matrix, 2nd column"
   ]
  },
  {
   "cell_type": "code",
   "execution_count": 30,
   "metadata": {
    "collapsed": false
   },
   "outputs": [
    {
     "data": {
      "text/plain": [
       "5"
      ]
     },
     "execution_count": 30,
     "metadata": {},
     "output_type": "execute_result"
    }
   ],
   "source": [
    "# We can assign values using list-like index\n",
    "# But be careful on types\n",
    "compa[0,0,0] = 5.9\n",
    "compa[0,0,0]"
   ]
  },
  {
   "cell_type": "markdown",
   "metadata": {},
   "source": [
    "We can change the datatype when needed"
   ]
  },
  {
   "cell_type": "code",
   "execution_count": 31,
   "metadata": {
    "collapsed": false
   },
   "outputs": [
    {
     "data": {
      "text/plain": [
       "5.75"
      ]
     },
     "execution_count": 31,
     "metadata": {},
     "output_type": "execute_result"
    }
   ],
   "source": [
    "compa = compa.astype(float)\n",
    "compa[0,0,0] = 5.75\n",
    "compa[0,0,0]"
   ]
  },
  {
   "cell_type": "markdown",
   "metadata": {},
   "source": [
    "#### Stacking arrays\n",
    "\n",
    "You must stack using dimensions of the saem size"
   ]
  },
  {
   "cell_type": "code",
   "execution_count": 32,
   "metadata": {
    "collapsed": false
   },
   "outputs": [
    {
     "name": "stdout",
     "output_type": "stream",
     "text": [
      "H Stack\n",
      "[1 2 3 2 3 4]\n",
      "V Stack\n",
      "[[1 2 3]\n",
      " [2 3 4]]\n"
     ]
    }
   ],
   "source": [
    "a = np.array((1,2,3))\n",
    "b = np.array((2,3,4))\n",
    "print 'H Stack' #stack horizontally\n",
    "print np.hstack((a,b))\n",
    "print 'V Stack' #stack vertically\n",
    "print np.vstack((a,b))"
   ]
  },
  {
   "cell_type": "code",
   "execution_count": 33,
   "metadata": {
    "collapsed": false
   },
   "outputs": [
    {
     "name": "stdout",
     "output_type": "stream",
     "text": [
      "H Stack\n",
      "[[1 2]\n",
      " [2 3]\n",
      " [3 4]]\n",
      "V Stack\n",
      "[[1]\n",
      " [2]\n",
      " [3]\n",
      " [2]\n",
      " [3]\n",
      " [4]]\n"
     ]
    }
   ],
   "source": [
    "a = np.array([[1],[2],[3]])\n",
    "b = np.array([[2],[3],[4]])\n",
    "print 'H Stack'\n",
    "print np.hstack((a,b))\n",
    "print 'V Stack' #becomes a column array\n",
    "print np.vstack((a,b))"
   ]
  },
  {
   "cell_type": "markdown",
   "metadata": {},
   "source": [
    "### Using Random Numbers\n",
    "\n",
    "Random numbers are very helpful and are necessary at times for testing data pipelines and running statistical analyses. Functions for creating random values are under numpy.random."
   ]
  },
  {
   "cell_type": "code",
   "execution_count": 34,
   "metadata": {
    "collapsed": false
   },
   "outputs": [
    {
     "data": {
      "text/plain": [
       "array([[ 0.23713423,  0.64516417,  0.2779375 ,  0.03215047,  0.69781494],\n",
       "       [ 0.45650825,  0.85509805,  0.70399037,  0.86945136,  0.52349135],\n",
       "       [ 0.76301142,  0.79928049,  0.23024185,  0.37215679,  0.86215184],\n",
       "       [ 0.48421031,  0.2764131 ,  0.83588002,  0.49294001,  0.95145523],\n",
       "       [ 0.42239484,  0.51187536,  0.09687954,  0.01769352,  0.09112011]])"
      ]
     },
     "execution_count": 34,
     "metadata": {},
     "output_type": "execute_result"
    }
   ],
   "source": [
    "#Create a randomized array\n",
    "rm = np.random.rand(5,5) #numbers between 0 to 1 in a 5 by 5 arrray\n",
    "rm"
   ]
  },
  {
   "cell_type": "code",
   "execution_count": 35,
   "metadata": {
    "collapsed": false
   },
   "outputs": [
    {
     "data": {
      "text/plain": [
       "(5, 5)"
      ]
     },
     "execution_count": 35,
     "metadata": {},
     "output_type": "execute_result"
    }
   ],
   "source": [
    "rm.shape"
   ]
  },
  {
   "cell_type": "markdown",
   "metadata": {},
   "source": [
    "You can shuffle values randomly as well"
   ]
  },
  {
   "cell_type": "code",
   "execution_count": 36,
   "metadata": {
    "collapsed": false
   },
   "outputs": [
    {
     "data": {
      "text/plain": [
       "array([[ 0.42239484,  0.51187536,  0.09687954,  0.01769352,  0.09112011],\n",
       "       [ 0.76301142,  0.79928049,  0.23024185,  0.37215679,  0.86215184],\n",
       "       [ 0.45650825,  0.85509805,  0.70399037,  0.86945136,  0.52349135],\n",
       "       [ 0.48421031,  0.2764131 ,  0.83588002,  0.49294001,  0.95145523],\n",
       "       [ 0.23713423,  0.64516417,  0.2779375 ,  0.03215047,  0.69781494]])"
      ]
     },
     "execution_count": 36,
     "metadata": {},
     "output_type": "execute_result"
    }
   ],
   "source": [
    "# This will shuffle along the first index of a multi-dimensional array \n",
    "# Only shuffle within the same column\n",
    "np.random.shuffle(rm)\n",
    "rm"
   ]
  },
  {
   "cell_type": "code",
   "execution_count": 37,
   "metadata": {
    "collapsed": false
   },
   "outputs": [
    {
     "name": "stdout",
     "output_type": "stream",
     "text": [
      "0.500257805282\n",
      "[ 0.47265181  0.61756623  0.42898586  0.35687843  0.62520669]\n",
      "[ 0.22799267  0.60536848  0.68170787  0.60817973  0.37804026]\n"
     ]
    }
   ],
   "source": [
    "print rm.mean()\n",
    "print rm.mean(0) #Average per column\n",
    "print rm.mean(1) #average per row"
   ]
  },
  {
   "cell_type": "code",
   "execution_count": 38,
   "metadata": {
    "collapsed": false
   },
   "outputs": [
    {
     "data": {
      "text/plain": [
       "array([[  3.86657007e+00,   9.71809770e+00,  -5.28195660e+00,\n",
       "          4.72153138e+00,   7.64798150e+00,  -2.53885562e+00,\n",
       "          1.46331880e+01,   8.76674621e+00,  -1.94280775e+00,\n",
       "         -1.05153247e+01,   2.67807972e+01,   7.27169490e+00,\n",
       "          3.62615540e+00,   9.37546867e+00,   8.10673163e+00,\n",
       "          3.21766816e+00,   1.05219880e+01,   2.80261343e+00,\n",
       "         -2.49633865e+00,   3.89884252e+00,   7.81215056e-01,\n",
       "          9.58968749e+00,   5.29860515e+00,   4.75245954e+00,\n",
       "          1.18119307e+01,  -4.93346857e+00,   2.89526777e+00,\n",
       "          2.14242687e+01,   1.03982926e+01,   1.11838008e+01],\n",
       "       [ -1.30452964e+00,   1.88639656e+00,  -1.70254504e+01,\n",
       "         -1.92131940e+00,   2.83133389e+00,   3.94542047e+00,\n",
       "         -5.12732965e-01,   1.87546159e-01,   1.26461153e+01,\n",
       "         -4.35670927e+00,   1.18490216e+01,   7.49499283e+00,\n",
       "          1.62240892e+01,  -6.84099561e-01,   2.06317689e+01,\n",
       "          1.26729353e+01,   2.01616016e+01,   1.22609534e+01,\n",
       "         -2.80063731e+00,   1.53275803e+01,   8.62401058e+00,\n",
       "          1.37880110e+01,  -1.05621120e+01,   2.65730261e+00,\n",
       "          1.23625144e+01,   4.25779455e+00,   1.84144073e+01,\n",
       "          1.72795954e+00,   1.94337255e+01,   2.33494852e+01],\n",
       "       [  8.29795832e+00,   4.88763490e+00,  -5.62168859e+00,\n",
       "          1.01275907e+01,  -2.84171331e+00,   4.66148253e+00,\n",
       "          1.76418208e+01,   8.59581373e+00,   6.87461454e+00,\n",
       "         -2.43385249e+01,   5.78378531e+00,   1.01883271e+00,\n",
       "          4.73906104e+00,  -6.32447807e+00,   7.53880948e+00,\n",
       "         -1.67384227e+01,   6.71689669e+00,   6.17046372e+00,\n",
       "         -3.85642036e+00,  -1.65363917e+01,   9.22570716e+00,\n",
       "          8.60155655e+00,   6.21850001e-02,   5.63259219e+00,\n",
       "          1.43636530e+00,  -2.55408233e+00,   4.30509796e+00,\n",
       "          3.19931700e+00,  -1.67009912e+01,   9.71215168e-01],\n",
       "       [  5.82965316e+00,   3.73198166e+00,   7.40208193e+00,\n",
       "          2.19387153e+00,   5.60024469e+00,   7.66907002e+00,\n",
       "          1.43971882e+01,  -1.94950860e+00,   4.25365446e+00,\n",
       "         -1.29402390e+01,  -2.74036109e+00,  -1.23111258e+01,\n",
       "          8.02815620e+00,   3.97982907e+00,  -1.54791968e+00,\n",
       "          8.75931575e+00,   1.52464152e+00,   1.08630555e+01,\n",
       "          1.89251038e+01,   1.55132699e+01,   5.28858984e+00,\n",
       "          6.18748059e+00,  -4.07155234e+00,   1.27672282e+01,\n",
       "          5.53727481e+00,   7.57159407e+00,   1.03875540e+01,\n",
       "          1.00670104e+01,   1.12228105e+01,  -4.76958601e+00],\n",
       "       [  6.18029585e+00,  -1.37897441e+01,  -1.32892497e+00,\n",
       "          1.94406689e+01,   8.13085891e+00,  -5.28204638e+00,\n",
       "         -1.15755649e+00,   9.12258341e+00,   6.36278815e+00,\n",
       "          9.21382702e-01,  -8.82382263e+00,   8.42243403e+00,\n",
       "          1.57836218e+01,   7.31678834e+00,  -4.19598437e-01,\n",
       "          3.92608301e+00,  -1.92012603e+00,  -1.09248128e+00,\n",
       "         -7.61669414e+00,   1.50218859e+01,   2.84935559e+00,\n",
       "         -2.82829308e+00,   7.57017751e+00,   1.50834959e+01,\n",
       "          1.95768411e+00,  -1.06056539e+00,   3.87424019e-01,\n",
       "         -6.15994249e+00,   3.81144683e+00,   5.66839550e+00],\n",
       "       [ -6.71505730e-01,   9.57074206e+00,  -8.63144403e+00,\n",
       "         -8.35957691e+00,   1.18198998e+01,   1.21589489e+01,\n",
       "          1.11416634e+01,   1.63423793e+01,   3.11659335e+01,\n",
       "          1.10498632e+01,  -7.83288094e-01,   2.49551856e+01,\n",
       "          7.15497659e+00,   1.05001827e+01,   1.22764467e+01,\n",
       "         -2.11925050e+00,   1.64967053e+00,   3.52619118e+00,\n",
       "         -3.14823455e+00,   7.56973263e+00,   1.17153176e+01,\n",
       "          6.41403718e+00,   7.00817293e-01,  -6.06921461e+00,\n",
       "          9.50415890e+00,   5.18792645e+00,   8.02920325e+00,\n",
       "          1.53676405e+01,  -5.06588719e+00,   1.15565306e+01],\n",
       "       [ -1.20670697e+01,   4.04365130e+00,   1.65209926e+01,\n",
       "          9.60487975e-01,   9.06488776e+00,   1.69049170e+00,\n",
       "          3.24568061e+00,   8.93567533e+00,   7.18109881e+00,\n",
       "          7.55265191e+00,   1.14322649e+01,   2.69120951e+01,\n",
       "         -6.03826915e+00,   2.25733791e+00,   7.34071601e+00,\n",
       "          1.10379427e+01,  -8.39727935e-01,   1.50385822e+00,\n",
       "          1.72565507e+00,  -5.14653169e-01,   1.00417646e+01,\n",
       "          2.61554909e+00,   1.42296306e+01,  -5.23893667e+00,\n",
       "          1.21403502e+00,   4.80770674e+00,  -4.24267130e+00,\n",
       "         -6.74149654e+00,   2.71494296e+01,  -1.00846282e+01],\n",
       "       [ -4.73707411e+00,   7.14953756e+00,   7.18917566e+00,\n",
       "         -2.15004775e+00,   3.87731583e-01,   4.96835609e+00,\n",
       "         -3.24381253e+00,   1.99347833e+00,   1.74674067e+01,\n",
       "          7.16658415e+00,   3.07828395e+00,  -4.90168859e+00,\n",
       "         -3.54574135e+00,   6.00619167e+00,   3.23248543e+00,\n",
       "          1.14433757e+01,  -3.26928135e+00,   1.50631406e+01,\n",
       "          4.24285179e+00,   2.52266982e+00,   4.92497945e+00,\n",
       "         -8.66171844e+00,  -4.06630412e+00,   3.43673093e-01,\n",
       "          1.55261084e+01,   1.40744469e+00,   1.13160546e+01,\n",
       "          5.89265451e+00,   3.51566749e+00,   6.16547809e-01],\n",
       "       [  9.43564103e+00,   8.38512623e+00,   8.66434024e+00,\n",
       "         -3.11076030e+00,  -2.10066875e+00,  -2.85684347e-01,\n",
       "          1.09080232e+01,   2.38151086e+01,   3.59993423e+00,\n",
       "         -4.25905868e+00,   1.58985355e+00,   2.00600905e+00,\n",
       "          2.40362869e+00,   1.75970860e+01,   1.25753541e+01,\n",
       "          1.77754297e+00,   1.09199829e+01,   8.96629097e+00,\n",
       "          1.20156876e+01,  -4.30894755e+00,  -6.44925448e+00,\n",
       "          1.00594918e+01,   8.94759792e-01,  -5.51493691e+00,\n",
       "          1.45424700e+01,   3.71996593e+00,   1.47866254e+01,\n",
       "          1.45048424e+01,   2.33225633e+00,   6.28172779e+00],\n",
       "       [ -2.93329684e+00,   2.79947457e+00,  -1.04740129e+01,\n",
       "          7.63607712e+00,  -1.75072520e+00,   6.17482878e+00,\n",
       "          4.96390401e-01,   5.29781306e+00,   1.74610562e+01,\n",
       "          4.42427845e+00,   6.51317158e+00,   1.35609608e+01,\n",
       "          8.11239451e+00,   5.58075893e+00,   3.66783023e+00,\n",
       "          1.42024364e+01,   9.52886727e+00,  -1.24857942e+01,\n",
       "         -3.84629605e+00,   1.28497747e-01,  -1.03851032e+01,\n",
       "          5.02402038e-01,  -8.07790422e+00,   3.29823054e+00,\n",
       "          2.77537952e+01,  -1.10133100e+01,   6.09069766e+00,\n",
       "          9.57820972e+00,   4.10090789e-01,  -1.19477180e+00],\n",
       "       [ -4.36864750e+00,  -6.33715774e+00,   3.50494241e+00,\n",
       "          6.63840917e+00,  -4.33404113e+00,   1.46162399e+00,\n",
       "          1.38733786e+01,   6.38976046e+00,   2.82568048e+01,\n",
       "          1.13086688e+01,   1.33258309e+01,   4.76509872e+00,\n",
       "         -2.24857151e+00,   3.85980475e-01,   5.90997395e+00,\n",
       "         -9.61532707e+00,  -1.53460739e+00,   4.61080835e+00,\n",
       "          5.42818353e+00,   2.39720864e+01,   3.81345709e+00,\n",
       "          6.81580241e+00,   9.38954249e+00,   2.29806528e+00,\n",
       "         -6.80756847e+00,   1.16893112e+01,   1.04743573e+00,\n",
       "          6.50355960e+00,   2.13932735e+00,  -5.03738917e+00],\n",
       "       [  8.23882307e+00,   1.11322270e+00,  -7.96264820e+00,\n",
       "          1.92324119e+00,   9.01533488e+00,   5.39024673e+00,\n",
       "          7.45446838e+00,   1.94642836e+00,   2.08237808e+01,\n",
       "          1.12534199e+01,   8.53826346e+00,  -4.66541403e-01,\n",
       "         -4.03107872e+00,   3.14649999e+01,  -3.95683007e+00,\n",
       "         -2.84999417e+00,  -1.15334501e+01,   8.23214656e+00,\n",
       "         -1.52078377e+01,   1.10363370e+01,  -1.24786070e+00,\n",
       "         -1.21277690e+00,   1.20271490e+01,   1.42592991e+01,\n",
       "          1.61078959e+01,  -5.34307897e+00,   1.03081880e+01,\n",
       "          4.47081200e+00,   6.53495945e-01,   8.01042279e+00],\n",
       "       [ -5.26763385e-01,   2.25751218e+01,   1.68907680e+01,\n",
       "         -4.55360617e+00,   9.68781654e+00,   1.08064010e+01,\n",
       "          2.76693691e+00,   1.71503774e+00,   7.01788034e+00,\n",
       "         -4.88041446e+00,   1.35865744e+01,  -7.78739197e+00,\n",
       "          5.50551662e+00,   1.31158189e+01,  -4.65121097e+00,\n",
       "         -1.68979335e+00,  -6.37618854e+00,  -1.27955981e+00,\n",
       "          7.87740097e+00,   7.95599204e+00,  -2.15509208e+00,\n",
       "         -8.96131061e+00,   2.76755073e+00,   2.26148622e+01,\n",
       "         -4.14690476e+00,  -1.11647118e+01,   5.93372585e+00,\n",
       "          5.92709614e+00,   3.97203156e+00,  -4.36889383e+00],\n",
       "       [  1.66211875e+01,   1.49918904e+01,   7.84969192e+00,\n",
       "          1.31273451e+01,   6.00988433e+00,   5.62788203e+00,\n",
       "          3.02262684e+00,   1.91906214e-01,  -6.49193406e+00,\n",
       "          1.10386248e+01,   2.12962617e+01,  -2.42479050e+00,\n",
       "         -4.72025819e+00,  -3.13040418e+00,   1.53294963e+00,\n",
       "          1.08135219e+01,   7.86846521e+00,   2.68955411e+00,\n",
       "          1.78275665e+01,   1.81878636e+01,   6.87674107e+00,\n",
       "          7.41425169e+00,   1.34326263e+01,   9.72286791e+00,\n",
       "          4.77400741e-01,  -2.22994958e+00,   1.20248326e+01,\n",
       "          6.62589816e+00,   7.65722118e+00,  -1.85368547e+01],\n",
       "       [ -2.32932759e+00,   1.50549373e+01,   4.46191516e+00,\n",
       "          1.05759819e+01,   1.18031514e+01,   1.22419801e+01,\n",
       "          7.74076290e+00,   1.06828241e+01,  -3.01317189e+00,\n",
       "         -9.66554693e-01,   8.01940331e+00,   8.02011463e+00,\n",
       "          3.05478542e+00,   9.08143109e+00,  -1.01453816e+01,\n",
       "          1.34117578e+01,   6.06961037e+00,  -8.81293870e+00,\n",
       "          1.04634508e+01,   2.85571959e+01,  -5.35716976e+00,\n",
       "          1.48802774e+01,   3.62398013e+00,  -7.58800001e+00,\n",
       "          7.28787994e+00,  -4.63524637e+00,   3.89043362e+00,\n",
       "          5.33054169e+00,   4.32253598e+00,   9.16877352e+00],\n",
       "       [  2.01125345e+01,   2.45194096e+01,  -5.35986503e+00,\n",
       "          2.46078851e+01,   9.00792557e+00,  -2.10818005e+00,\n",
       "          7.75036495e+00,   3.98202456e+00,   1.41981586e+01,\n",
       "         -3.86231519e-01,  -1.15939030e+01,   9.31361406e-01,\n",
       "         -5.29505238e-01,  -3.57644325e+00,   7.34179762e+00,\n",
       "          5.55354398e-01,   1.05616183e+01,   1.19493708e+01,\n",
       "          1.82433142e+01,  -2.48016553e+01,  -2.88982156e+00,\n",
       "         -1.26208850e-01,   1.80322906e-01,  -3.08438747e+00,\n",
       "         -1.28488746e+01,   5.62592417e+00,  -1.97250616e+00,\n",
       "          9.96014376e+00,  -5.92837487e+00,   1.23710280e+01],\n",
       "       [ -6.20073869e+00,   7.08163024e-01,   1.57797345e+01,\n",
       "         -1.39663627e+01,   1.08243105e+01,   6.86614480e+00,\n",
       "         -1.65658911e+01,   6.19508407e+00,   7.43476279e+00,\n",
       "          2.37993394e+01,   9.51175922e+00,   1.03159591e+01,\n",
       "          1.34211667e+01,  -2.89307756e-02,   1.49878955e+00,\n",
       "          1.68433391e+01,   1.19213982e+01,   3.93875429e+00,\n",
       "         -5.51277029e+00,   1.55887232e+01,   3.93781079e+00,\n",
       "          1.00829031e+01,   3.44488569e-02,   1.29491395e+01,\n",
       "         -1.69602523e+00,   2.88261830e+00,   1.50159041e+01,\n",
       "          1.70047738e+01,   1.16838404e+01,   2.39043044e+00],\n",
       "       [  4.20679364e+00,   1.93906337e+01,   9.83849833e+00,\n",
       "          7.51704590e+00,   1.00725385e+01,   6.81305788e+00,\n",
       "          2.77006090e+01,   7.40808315e-01,   3.87157608e-01,\n",
       "         -7.00517269e+00,  -9.95951092e+00,  -5.19645193e+00,\n",
       "          1.14932916e+01,   1.07037145e+01,  -2.89958475e-01,\n",
       "         -1.64860916e+01,   4.15442824e+00,   1.05071096e+01,\n",
       "          1.35687817e+01,  -1.12679103e+01,   1.50871107e+01,\n",
       "         -1.43457606e+01,  -4.91409687e+00,   1.33886108e+01,\n",
       "          7.48712865e+00,  -3.62335730e+00,  -3.95628819e+00,\n",
       "          5.41294448e+00,   8.97043398e+00,   4.71414800e+00],\n",
       "       [ -4.46868284e+00,   7.75764397e+00,   1.06235878e+01,\n",
       "          9.91285553e+00,  -1.66555330e+00,   1.40419873e+01,\n",
       "          9.86759245e+00,  -1.74882408e+01,   1.70623986e+01,\n",
       "          1.26674982e+01,  -6.17038377e+00,   3.76955945e-01,\n",
       "         -1.22179954e+01,   4.61200895e+00,  -2.97711516e+00,\n",
       "          2.89036722e+00,   1.10598649e+01,   3.39293355e+00,\n",
       "          7.52813763e+00,  -1.62946364e+00,   6.18454965e+00,\n",
       "          1.63686537e+01,   1.26891739e+01,  -3.10567838e+01,\n",
       "          1.00369543e+00,   9.09953122e+00,  -4.26744801e+00,\n",
       "          7.94988580e+00,   2.05397520e+00,   3.96138049e+00],\n",
       "       [ -2.25137569e+01,   9.37123807e+00,   2.87608099e+01,\n",
       "          9.90973613e+00,   1.59821793e+01,   3.08215527e+00,\n",
       "          1.20779242e+01,   3.56475175e+00,   8.46080679e+00,\n",
       "         -4.66101250e+00,   8.82559483e+00,   2.78608078e+00,\n",
       "         -1.34413629e+00,   5.57345239e+00,   1.63508840e+01,\n",
       "         -8.13902377e+00,   3.30338226e+00,   1.02396728e+01,\n",
       "          3.75320215e+00,   1.01898966e+01,   1.46370387e+01,\n",
       "         -1.68103492e+01,   1.01124433e+00,  -1.30394969e+01,\n",
       "          1.49015591e+00,   1.56843086e+01,  -4.53373683e+00,\n",
       "         -7.77535072e+00,  -2.79225898e+00,   2.54601987e+00],\n",
       "       [ -7.02785302e+00,   1.02972003e+00,   3.80173238e+00,\n",
       "          7.10894372e+00,   2.08421206e+01,   1.49871718e+01,\n",
       "          1.52801058e+00,   1.43675108e+01,  -5.48396210e+00,\n",
       "          1.17284309e+00,   1.89578928e+00,   2.66110571e+00,\n",
       "          2.11881319e+01,   3.71244941e+00,   5.70374824e+00,\n",
       "          6.14292449e-01,   7.96217782e+00,   8.08256742e+00,\n",
       "          1.00378979e+01,   6.53475260e+00,   1.89007643e+01,\n",
       "          1.79901777e+00,   3.10203777e-01,   1.81565255e+01,\n",
       "          2.09318563e+00,   9.60002502e+00,   3.04430896e+00,\n",
       "          1.27139641e+01,   7.15038923e+00,   4.01510101e-01],\n",
       "       [  3.60046601e+00,   2.58167057e+00,  -2.03721743e+01,\n",
       "          3.10909537e+00,   1.61370553e+01,  -1.83783514e+00,\n",
       "         -5.01599197e-01,  -1.11676292e+01,   7.69061846e+00,\n",
       "          8.33188141e-01,   9.79566010e+00,  -5.49164982e+00,\n",
       "          8.79155281e+00,   1.15978602e+01,  -9.09430948e+00,\n",
       "         -4.63371927e+00,   5.39719038e+00,  -3.07026247e+00,\n",
       "          2.35421914e+01,   1.26685250e+01,  -5.53624992e+00,\n",
       "          1.29407402e+01,  -1.09781890e+01,   2.48211322e+01,\n",
       "          9.51971111e+00,   1.53166399e+01,   6.39825708e+00,\n",
       "          4.21341757e-01,  -4.22751519e+00,   3.95362149e+00],\n",
       "       [ -9.91255641e-01,  -2.81304904e+00,  -2.04544751e+01,\n",
       "          2.93202283e+00,   2.08454100e+01,  -2.86859793e+00,\n",
       "          2.16467740e+01,  -5.11445578e+00,   7.58466147e+00,\n",
       "         -5.56081679e+00,   2.21860689e+01,   8.97726635e+00,\n",
       "          1.52995848e+01,   1.52752122e+01,   1.51466186e+01,\n",
       "          1.33654646e+01,  -1.47073429e+01,   2.47486547e+01,\n",
       "          3.23509385e+00,  -5.97374095e+00,   1.28962687e+01,\n",
       "         -9.86640587e+00,  -7.65185273e+00,   1.63265548e+01,\n",
       "          2.76867593e+00,  -1.00181854e+01,  -1.91695250e+00,\n",
       "          9.22474754e+00,   1.89831674e+00,   5.02448795e+00],\n",
       "       [  2.53203009e+01,  -5.60600742e+00,  -1.28574789e+00,\n",
       "         -9.87358951e+00,  -1.11108457e+01,   7.52250613e-01,\n",
       "          2.05624838e+01,  -3.31125731e+00,   1.95907575e+00,\n",
       "         -8.19567471e-01,  -5.21597519e+00,   4.28536544e+00,\n",
       "          1.70465872e+00,   7.23849689e+00,   7.74937305e+00,\n",
       "          3.56324370e-01,  -3.51602352e+00,  -1.87668026e+01,\n",
       "          1.29434071e+00,   2.21579200e+01,   6.01823151e-02,\n",
       "          7.38919392e-01,   8.67707444e+00,   1.31574284e+01,\n",
       "          1.42788456e+01,   1.28569834e+01,   4.50781901e+00,\n",
       "         -7.33987350e-01,  -2.81509602e-01,   1.58929182e+01],\n",
       "       [  1.86659844e+01,  -2.69746178e+00,  -4.25884655e+00,\n",
       "          2.48871896e+00,  -6.27905744e+00,  -8.91758665e+00,\n",
       "          5.18241166e+00,   1.71332996e+01,   6.28795178e+00,\n",
       "          1.33055847e+01,   5.44264556e+00,   1.45895591e+00,\n",
       "          1.17137485e+01,  -1.91043836e+00,   1.27373028e+01,\n",
       "          1.86151766e+01,   8.08297452e+00,   5.54684987e+00,\n",
       "          1.82368612e+01,   1.35929091e+01,   1.42814376e+01,\n",
       "          1.26094173e+01,   1.33819761e+01,   3.25050991e+00,\n",
       "          1.86745454e+00,   1.04153390e+01,  -5.40447290e+00,\n",
       "          3.54893628e+00,  -9.35364563e-01,   1.19048265e+01],\n",
       "       [  2.29039654e+00,   5.60286398e+00,   4.75434879e+00,\n",
       "          5.65193641e+00,   1.74808861e+01,  -5.07009910e-01,\n",
       "          3.53081657e+00,   6.16646860e+00,  -3.88271982e+00,\n",
       "          1.79937625e+00,  -1.83081846e+00,  -2.58407727e+00,\n",
       "         -9.94565627e+00,  -9.79463516e+00,   7.56691260e+00,\n",
       "          1.13734588e+01,  -7.41571666e+00,   1.00331875e+00,\n",
       "         -6.28856453e+00,   9.35786062e+00,  -8.73052653e+00,\n",
       "         -9.48809719e+00,  -3.90262893e+00,   2.42972983e+01,\n",
       "         -1.10707952e+01,  -4.92015517e+00,   1.70126605e+01,\n",
       "          3.66289440e+00,  -4.88018187e+00,   5.94930817e+00],\n",
       "       [  6.36218436e+00,   7.13567157e+00,   5.66968167e-02,\n",
       "          6.35127643e+00,   1.91509170e+01,  -1.29236316e+00,\n",
       "         -3.72517407e+00,  -4.46035738e+00,   1.16287663e+01,\n",
       "         -1.44740289e+00,   8.07596157e+00,   2.96724499e+00,\n",
       "         -5.06222244e+00,   1.20155641e-02,   2.72493985e+00,\n",
       "         -1.12289780e+01,   7.23888901e+00,   5.39624090e+00,\n",
       "          1.14841905e+01,  -8.77001125e+00,   1.13957462e+01,\n",
       "          9.14291357e+00,   2.07186781e+01,   7.05686361e+00,\n",
       "          2.46346622e+01,   1.28910785e+01,   2.16859678e+00,\n",
       "          1.77527681e+01,   6.04086987e+00,  -1.27097627e+01],\n",
       "       [  1.17551497e+01,  -1.34894655e+00,  -9.90695606e+00,\n",
       "         -2.67122857e+00,   1.65656702e+01,   1.35796621e+01,\n",
       "          2.61763996e+00,   2.59398718e+00,  -6.26659698e+00,\n",
       "          1.98860793e+01,  -1.36485023e+01,   2.02166367e+00,\n",
       "          2.62710626e+01,   8.64633234e+00,   9.61866181e+00,\n",
       "         -5.50969433e+00,   1.14062713e+01,  -2.44140772e+00,\n",
       "         -8.57932686e+00,   5.34618255e+00,  -3.03476640e-01,\n",
       "          1.29758678e+01,   1.04268816e+01,   7.86384993e+00,\n",
       "          2.00635028e+00,   1.40797868e+01,  -3.21331354e+00,\n",
       "         -5.11897103e-01,   1.06494130e+01,   7.64831797e+00],\n",
       "       [  7.14252996e+00,   8.30438004e-01,   1.50136887e+01,\n",
       "         -4.52559973e+00,  -8.82274603e+00,   1.92579637e+01,\n",
       "          5.05633342e+00,  -8.40101773e-01,   2.44858528e-01,\n",
       "         -1.91788337e-02,   1.77486292e+01,   9.94079480e-01,\n",
       "         -5.44515415e+00,  -3.42551721e-01,   4.67092117e+00,\n",
       "          1.06905460e+01,  -3.86142309e+00,   9.07399732e+00,\n",
       "          1.62654037e+01,   3.35471195e+00,   8.79648382e+00,\n",
       "          6.13509014e+00,   1.62477004e+01,  -7.34130245e+00,\n",
       "          9.95326987e+00,  -2.68803976e-01,   2.16133532e+01,\n",
       "         -4.75080883e+00,  -6.05521823e+00,  -6.89876561e+00],\n",
       "       [  5.25329885e+00,  -3.19017697e+00,   5.03902076e+00,\n",
       "          1.11080200e+01,   1.51239573e+01,  -5.20714282e+00,\n",
       "          3.69914056e+00,   1.75958968e+01,  -1.87723943e+01,\n",
       "          9.34478533e+00,   1.55525070e+01,   2.67999133e+01,\n",
       "          1.27738528e+01,   1.94344908e+01,   1.04694050e+01,\n",
       "          7.69474885e+00,   1.61503881e+00,   2.36054585e+00,\n",
       "          3.74097886e+00,  -1.56087418e+01,  -4.76067229e-01,\n",
       "          5.87741115e+00,   1.62631492e+01,  -1.45792828e+01,\n",
       "          5.40795487e+00,  -4.31097333e+00,   7.45957396e+00,\n",
       "          4.31930156e+00,   1.69447671e+01,  -5.43934269e+00]])"
      ]
     },
     "execution_count": 38,
     "metadata": {},
     "output_type": "execute_result"
    }
   ],
   "source": [
    "# for a different Normal Distribution, use np.random.normal\n",
    "# shift tab brings you documentation to the function\n",
    "rm = np.random.normal(5,9,(30,30)) \n",
    "rm"
   ]
  },
  {
   "cell_type": "code",
   "execution_count": 39,
   "metadata": {
    "collapsed": false
   },
   "outputs": [
    {
     "name": "stdout",
     "output_type": "stream",
     "text": [
      "4.46898430527 which is hopefully close to the input mean\n",
      "83.5618984329 which variance = stdev squared\n",
      "4.37340721962\n"
     ]
    }
   ],
   "source": [
    "print rm.mean(), \"which is hopefully close to the input mean\"\n",
    "print rm.var(), \"which variance = stdev squared\"\n",
    "print np.median(rm)"
   ]
  },
  {
   "cell_type": "code",
   "execution_count": null,
   "metadata": {
    "collapsed": true
   },
   "outputs": [],
   "source": []
  },
  {
   "cell_type": "markdown",
   "metadata": {},
   "source": [
    "Find more distributions and random functions here: http://docs.scipy.org/doc/numpy/reference/routines.random.html"
   ]
  },
  {
   "cell_type": "markdown",
   "metadata": {},
   "source": [
    "### Exercise 1"
   ]
  },
  {
   "cell_type": "markdown",
   "metadata": {},
   "source": [
    "1) Create a 4x5 array of integers between 0 and 19"
   ]
  },
  {
   "cell_type": "code",
   "execution_count": 43,
   "metadata": {
    "collapsed": false
   },
   "outputs": [
    {
     "name": "stdout",
     "output_type": "stream",
     "text": [
      "[[ 0  1  2  3  4]\n",
      " [ 5  6  7  8  9]\n",
      " [10 11 12 13 14]\n",
      " [15 16 17 18 19]]\n"
     ]
    }
   ],
   "source": [
    "a = np.arange(20).reshape(4,5)\n",
    "print a"
   ]
  },
  {
   "cell_type": "markdown",
   "metadata": {},
   "source": [
    "2) Create a 50x500 array with a mean of 20 and variance of 100. Save it to a variable called  biggie"
   ]
  },
  {
   "cell_type": "code",
   "execution_count": 56,
   "metadata": {
    "collapsed": false
   },
   "outputs": [
    {
     "name": "stdout",
     "output_type": "stream",
     "text": [
      "19.9908736457 which is hopefully close to the input mean\n",
      "101.15732697 which variance = stdev squared\n",
      "20.0746144875\n"
     ]
    }
   ],
   "source": [
    "biggie = np.random.normal(20,10,(50,500)) \n",
    "print biggie.mean(), \"which is hopefully close to the input mean\"\n",
    "print biggie.var(), \"which variance = stdev squared\"\n",
    "print np.median(biggie)"
   ]
  },
  {
   "cell_type": "markdown",
   "metadata": {},
   "source": [
    "3) Change the mean of the array to a value within 1 of 0 and the variance within 1 of 25. Think about what the mean and the variance represent and try using various mathematical operations."
   ]
  },
  {
   "cell_type": "code",
   "execution_count": null,
   "metadata": {
    "collapsed": false
   },
   "outputs": [],
   "source": []
  },
  {
   "cell_type": "code",
   "execution_count": 59,
   "metadata": {
    "collapsed": false
   },
   "outputs": [
    {
     "name": "stdout",
     "output_type": "stream",
     "text": [
      "-0.00873214813345 which is hopefully close to the input mean\n",
      "25.1303651236 which variance = stdev squared\n",
      "0.0400721721075\n"
     ]
    }
   ],
   "source": [
    "biggie2 = np.random.normal(0,5,(50,500)) \n",
    "print biggie2.mean(), \"which is hopefully close to the input mean\"\n",
    "print biggie2.var(), \"which variance = stdev squared\"\n",
    "print np.median(biggie2)"
   ]
  },
  {
   "cell_type": "code",
   "execution_count": 58,
   "metadata": {
    "collapsed": false
   },
   "outputs": [
    {
     "name": "stdout",
     "output_type": "stream",
     "text": [
      "-0.00456317715692 which is hopefully close to the input mean\n",
      "25.2893317425 which variance = stdev squared\n",
      "0.0373072437274\n"
     ]
    }
   ],
   "source": [
    "biggie3 = (biggie-20)/2\n",
    "print biggie3.mean(), \"which is hopefully close to the input mean\"\n",
    "print biggie3.var(), \"which variance = stdev squared\"\n",
    "print np.median(biggie3)"
   ]
  },
  {
   "cell_type": "markdown",
   "metadata": {},
   "source": [
    "## Pandas (python package)\n",
    "\n",
    "Pandas is a Python package providing fast, flexible, and expressive data structures designed to make working with “relational” or “labeled” data both easy and intuitive.\n",
    "\n",
    "Pandas is great for tabular/indexed data"
   ]
  },
  {
   "cell_type": "code",
   "execution_count": 60,
   "metadata": {
    "collapsed": true
   },
   "outputs": [],
   "source": [
    "# NOTE: you should normally put all your imports at the top of the file\n",
    "import pandas as pd"
   ]
  },
  {
   "cell_type": "code",
   "execution_count": 62,
   "metadata": {
    "collapsed": false
   },
   "outputs": [
    {
     "data": {
      "text/plain": [
       "pandas.core.frame.DataFrame"
      ]
     },
     "execution_count": 62,
     "metadata": {},
     "output_type": "execute_result"
    }
   ],
   "source": [
    "data = pd.read_csv('../data/nytimes.csv')\n",
    "type(data)"
   ]
  },
  {
   "cell_type": "code",
   "execution_count": 63,
   "metadata": {
    "collapsed": false
   },
   "outputs": [
    {
     "data": {
      "text/html": [
       "<div>\n",
       "<table border=\"1\" class=\"dataframe\">\n",
       "  <thead>\n",
       "    <tr style=\"text-align: right;\">\n",
       "      <th></th>\n",
       "      <th>Age</th>\n",
       "      <th>Gender</th>\n",
       "      <th>Impressions</th>\n",
       "      <th>Clicks</th>\n",
       "      <th>Signed_In</th>\n",
       "    </tr>\n",
       "  </thead>\n",
       "  <tbody>\n",
       "    <tr>\n",
       "      <th>0</th>\n",
       "      <td>36</td>\n",
       "      <td>0</td>\n",
       "      <td>3</td>\n",
       "      <td>0</td>\n",
       "      <td>1</td>\n",
       "    </tr>\n",
       "    <tr>\n",
       "      <th>1</th>\n",
       "      <td>73</td>\n",
       "      <td>1</td>\n",
       "      <td>3</td>\n",
       "      <td>0</td>\n",
       "      <td>1</td>\n",
       "    </tr>\n",
       "    <tr>\n",
       "      <th>2</th>\n",
       "      <td>30</td>\n",
       "      <td>0</td>\n",
       "      <td>3</td>\n",
       "      <td>0</td>\n",
       "      <td>1</td>\n",
       "    </tr>\n",
       "    <tr>\n",
       "      <th>3</th>\n",
       "      <td>49</td>\n",
       "      <td>1</td>\n",
       "      <td>3</td>\n",
       "      <td>0</td>\n",
       "      <td>1</td>\n",
       "    </tr>\n",
       "  </tbody>\n",
       "</table>\n",
       "</div>"
      ],
      "text/plain": [
       "   Age  Gender  Impressions  Clicks  Signed_In\n",
       "0   36       0            3       0          1\n",
       "1   73       1            3       0          1\n",
       "2   30       0            3       0          1\n",
       "3   49       1            3       0          1"
      ]
     },
     "execution_count": 63,
     "metadata": {},
     "output_type": "execute_result"
    }
   ],
   "source": [
    "# Note here we're calling the head method on the dataframe to return the 'head' of the \n",
    "# dataframe, in this case the first 4 lines\n",
    "# head() actually creates a new copy of the data, this is important later in the course!\n",
    "data.head(4)"
   ]
  },
  {
   "cell_type": "code",
   "execution_count": 64,
   "metadata": {
    "collapsed": false
   },
   "outputs": [
    {
     "data": {
      "text/html": [
       "<div>\n",
       "<table border=\"1\" class=\"dataframe\">\n",
       "  <thead>\n",
       "    <tr style=\"text-align: right;\">\n",
       "      <th></th>\n",
       "      <th>Age</th>\n",
       "      <th>Gender</th>\n",
       "      <th>Impressions</th>\n",
       "      <th>Clicks</th>\n",
       "      <th>Signed_In</th>\n",
       "    </tr>\n",
       "  </thead>\n",
       "  <tbody>\n",
       "    <tr>\n",
       "      <th>0</th>\n",
       "      <td>36</td>\n",
       "      <td>0</td>\n",
       "      <td>3</td>\n",
       "      <td>0</td>\n",
       "      <td>1</td>\n",
       "    </tr>\n",
       "    <tr>\n",
       "      <th>1</th>\n",
       "      <td>73</td>\n",
       "      <td>1</td>\n",
       "      <td>3</td>\n",
       "      <td>0</td>\n",
       "      <td>1</td>\n",
       "    </tr>\n",
       "    <tr>\n",
       "      <th>2</th>\n",
       "      <td>30</td>\n",
       "      <td>0</td>\n",
       "      <td>3</td>\n",
       "      <td>0</td>\n",
       "      <td>1</td>\n",
       "    </tr>\n",
       "    <tr>\n",
       "      <th>3</th>\n",
       "      <td>49</td>\n",
       "      <td>1</td>\n",
       "      <td>3</td>\n",
       "      <td>0</td>\n",
       "      <td>1</td>\n",
       "    </tr>\n",
       "  </tbody>\n",
       "</table>\n",
       "</div>"
      ],
      "text/plain": [
       "   Age  Gender  Impressions  Clicks  Signed_In\n",
       "0   36       0            3       0          1\n",
       "1   73       1            3       0          1\n",
       "2   30       0            3       0          1\n",
       "3   49       1            3       0          1"
      ]
     },
     "execution_count": 64,
     "metadata": {},
     "output_type": "execute_result"
    }
   ],
   "source": [
    "data[0:4]"
   ]
  },
  {
   "cell_type": "code",
   "execution_count": 65,
   "metadata": {
    "collapsed": false
   },
   "outputs": [
    {
     "data": {
      "text/plain": [
       "Int64Index([     0,      1,      2,      3,      4,      5,      6,      7,\n",
       "                 8,      9, \n",
       "            ...\n",
       "            458431, 458432, 458433, 458434, 458435, 458436, 458437, 458438,\n",
       "            458439, 458440],\n",
       "           dtype='int64', length=458441)"
      ]
     },
     "execution_count": 65,
     "metadata": {},
     "output_type": "execute_result"
    }
   ],
   "source": [
    "# Each DataFrame has an index\n",
    "# Sometimes you will need to reindex\n",
    "# pandas are based on columns. Each column is called a series\n",
    "# for instance, 0 refers to the first row...etc, 1 refers to the second row\n",
    "data.index"
   ]
  },
  {
   "cell_type": "code",
   "execution_count": 66,
   "metadata": {
    "collapsed": false
   },
   "outputs": [
    {
     "data": {
      "text/plain": [
       "0         36\n",
       "1         73\n",
       "2         30\n",
       "3         49\n",
       "4         47\n",
       "5         47\n",
       "6          0\n",
       "7         46\n",
       "8         16\n",
       "9         52\n",
       "10         0\n",
       "11        21\n",
       "12         0\n",
       "13        57\n",
       "14        31\n",
       "15         0\n",
       "16        40\n",
       "17        31\n",
       "18        38\n",
       "19         0\n",
       "20        59\n",
       "21        61\n",
       "22        48\n",
       "23        29\n",
       "24         0\n",
       "25        19\n",
       "26        19\n",
       "27        48\n",
       "28        48\n",
       "29        21\n",
       "          ..\n",
       "458411    55\n",
       "458412    68\n",
       "458413     0\n",
       "458414    21\n",
       "458415    35\n",
       "458416    26\n",
       "458417    41\n",
       "458418    58\n",
       "458419    46\n",
       "458420    45\n",
       "458421    46\n",
       "458422    47\n",
       "458423    22\n",
       "458424    21\n",
       "458425    40\n",
       "458426    49\n",
       "458427    43\n",
       "458428    40\n",
       "458429    49\n",
       "458430     0\n",
       "458431    21\n",
       "458432    30\n",
       "458433    21\n",
       "458434    61\n",
       "458435    51\n",
       "458436     0\n",
       "458437     0\n",
       "458438    72\n",
       "458439     0\n",
       "458440     0\n",
       "Name: Age, dtype: int64"
      ]
     },
     "execution_count": 66,
     "metadata": {},
     "output_type": "execute_result"
    }
   ],
   "source": [
    "# This is a Series\n",
    "# Each series has an index\n",
    "# A DataFrame is made of of several Series with the same index\n",
    "data.Age"
   ]
  },
  {
   "cell_type": "code",
   "execution_count": 67,
   "metadata": {
    "collapsed": false
   },
   "outputs": [
    {
     "name": "stdout",
     "output_type": "stream",
     "text": [
      "<class 'pandas.core.frame.DataFrame'>\n",
      "Int64Index: 458441 entries, 0 to 458440\n",
      "Data columns (total 5 columns):\n",
      "Age            458441 non-null int64\n",
      "Gender         458441 non-null int64\n",
      "Impressions    458441 non-null int64\n",
      "Clicks         458441 non-null int64\n",
      "Signed_In      458441 non-null int64\n",
      "dtypes: int64(5)\n",
      "memory usage: 21.0 MB\n"
     ]
    }
   ],
   "source": [
    "data.info()"
   ]
  },
  {
   "cell_type": "code",
   "execution_count": 68,
   "metadata": {
    "collapsed": false
   },
   "outputs": [
    {
     "data": {
      "text/html": [
       "<div>\n",
       "<table border=\"1\" class=\"dataframe\">\n",
       "  <thead>\n",
       "    <tr style=\"text-align: right;\">\n",
       "      <th></th>\n",
       "      <th>Age</th>\n",
       "      <th>Gender</th>\n",
       "      <th>Impressions</th>\n",
       "      <th>Clicks</th>\n",
       "      <th>Signed_In</th>\n",
       "    </tr>\n",
       "  </thead>\n",
       "  <tbody>\n",
       "    <tr>\n",
       "      <th>count</th>\n",
       "      <td>458441.000000</td>\n",
       "      <td>458441.000000</td>\n",
       "      <td>458441.000000</td>\n",
       "      <td>458441.000000</td>\n",
       "      <td>458441.000000</td>\n",
       "    </tr>\n",
       "    <tr>\n",
       "      <th>mean</th>\n",
       "      <td>29.482551</td>\n",
       "      <td>0.367037</td>\n",
       "      <td>5.007316</td>\n",
       "      <td>0.092594</td>\n",
       "      <td>0.700930</td>\n",
       "    </tr>\n",
       "    <tr>\n",
       "      <th>std</th>\n",
       "      <td>23.607034</td>\n",
       "      <td>0.481997</td>\n",
       "      <td>2.239349</td>\n",
       "      <td>0.309973</td>\n",
       "      <td>0.457851</td>\n",
       "    </tr>\n",
       "    <tr>\n",
       "      <th>min</th>\n",
       "      <td>0.000000</td>\n",
       "      <td>0.000000</td>\n",
       "      <td>0.000000</td>\n",
       "      <td>0.000000</td>\n",
       "      <td>0.000000</td>\n",
       "    </tr>\n",
       "    <tr>\n",
       "      <th>25%</th>\n",
       "      <td>0.000000</td>\n",
       "      <td>0.000000</td>\n",
       "      <td>3.000000</td>\n",
       "      <td>0.000000</td>\n",
       "      <td>0.000000</td>\n",
       "    </tr>\n",
       "    <tr>\n",
       "      <th>50%</th>\n",
       "      <td>31.000000</td>\n",
       "      <td>0.000000</td>\n",
       "      <td>5.000000</td>\n",
       "      <td>0.000000</td>\n",
       "      <td>1.000000</td>\n",
       "    </tr>\n",
       "    <tr>\n",
       "      <th>75%</th>\n",
       "      <td>48.000000</td>\n",
       "      <td>1.000000</td>\n",
       "      <td>6.000000</td>\n",
       "      <td>0.000000</td>\n",
       "      <td>1.000000</td>\n",
       "    </tr>\n",
       "    <tr>\n",
       "      <th>max</th>\n",
       "      <td>108.000000</td>\n",
       "      <td>1.000000</td>\n",
       "      <td>20.000000</td>\n",
       "      <td>4.000000</td>\n",
       "      <td>1.000000</td>\n",
       "    </tr>\n",
       "  </tbody>\n",
       "</table>\n",
       "</div>"
      ],
      "text/plain": [
       "                 Age         Gender    Impressions         Clicks  \\\n",
       "count  458441.000000  458441.000000  458441.000000  458441.000000   \n",
       "mean       29.482551       0.367037       5.007316       0.092594   \n",
       "std        23.607034       0.481997       2.239349       0.309973   \n",
       "min         0.000000       0.000000       0.000000       0.000000   \n",
       "25%         0.000000       0.000000       3.000000       0.000000   \n",
       "50%        31.000000       0.000000       5.000000       0.000000   \n",
       "75%        48.000000       1.000000       6.000000       0.000000   \n",
       "max       108.000000       1.000000      20.000000       4.000000   \n",
       "\n",
       "           Signed_In  \n",
       "count  458441.000000  \n",
       "mean        0.700930  \n",
       "std         0.457851  \n",
       "min         0.000000  \n",
       "25%         0.000000  \n",
       "50%         1.000000  \n",
       "75%         1.000000  \n",
       "max         1.000000  "
      ]
     },
     "execution_count": 68,
     "metadata": {},
     "output_type": "execute_result"
    }
   ],
   "source": [
    "data.describe()"
   ]
  },
  {
   "cell_type": "code",
   "execution_count": 69,
   "metadata": {
    "collapsed": false
   },
   "outputs": [
    {
     "data": {
      "text/plain": [
       "numpy.ndarray"
      ]
     },
     "execution_count": 69,
     "metadata": {},
     "output_type": "execute_result"
    }
   ],
   "source": [
    "# We can change this data into numpy\n",
    "type(data.Age.values)"
   ]
  },
  {
   "cell_type": "markdown",
   "metadata": {},
   "source": [
    "#### Just like in numpy, we can use mean, var, and other functions on the data"
   ]
  },
  {
   "cell_type": "code",
   "execution_count": 70,
   "metadata": {
    "collapsed": false
   },
   "outputs": [
    {
     "name": "stdout",
     "output_type": "stream",
     "text": [
      "29.4825506445\n",
      "557.292044027\n",
      "108\n",
      "0\n"
     ]
    }
   ],
   "source": [
    "print data.Age.mean()\n",
    "print data.Age.var()\n",
    "print data.Age.max()\n",
    "print data.Age.min()"
   ]
  },
  {
   "cell_type": "code",
   "execution_count": 71,
   "metadata": {
    "collapsed": true
   },
   "outputs": [],
   "source": [
    "# Function that groups users by age.\n",
    "def map_age_category(x):\n",
    "    if x < 18:\n",
    "        return '1'\n",
    "    elif x < 25:\n",
    "        return '2'\n",
    "    elif x < 32:\n",
    "        return '3'\n",
    "    elif x < 45:\n",
    "        return '4'\n",
    "    else:\n",
    "        return '5'\n",
    "\n",
    "#creates a new column called age_categories\n",
    "data['age_categories'] = data['Age'].apply(map_age_category)\n",
    "\n",
    "#when assigning values, always use the bracket\n",
    "# for each value in age, apply function to the value"
   ]
  },
  {
   "cell_type": "code",
   "execution_count": 73,
   "metadata": {
    "collapsed": false
   },
   "outputs": [
    {
     "data": {
      "text/html": [
       "<div>\n",
       "<table border=\"1\" class=\"dataframe\">\n",
       "  <thead>\n",
       "    <tr style=\"text-align: right;\">\n",
       "      <th></th>\n",
       "      <th>Age</th>\n",
       "      <th>Gender</th>\n",
       "      <th>Impressions</th>\n",
       "      <th>Clicks</th>\n",
       "      <th>Signed_In</th>\n",
       "      <th>age_categories</th>\n",
       "      <th>test val</th>\n",
       "    </tr>\n",
       "  </thead>\n",
       "  <tbody>\n",
       "    <tr>\n",
       "      <th>0</th>\n",
       "      <td>36</td>\n",
       "      <td>0</td>\n",
       "      <td>3</td>\n",
       "      <td>0</td>\n",
       "      <td>1</td>\n",
       "      <td>4</td>\n",
       "      <td>2</td>\n",
       "    </tr>\n",
       "    <tr>\n",
       "      <th>1</th>\n",
       "      <td>73</td>\n",
       "      <td>1</td>\n",
       "      <td>3</td>\n",
       "      <td>0</td>\n",
       "      <td>1</td>\n",
       "      <td>5</td>\n",
       "      <td>2</td>\n",
       "    </tr>\n",
       "    <tr>\n",
       "      <th>2</th>\n",
       "      <td>30</td>\n",
       "      <td>0</td>\n",
       "      <td>3</td>\n",
       "      <td>0</td>\n",
       "      <td>1</td>\n",
       "      <td>3</td>\n",
       "      <td>2</td>\n",
       "    </tr>\n",
       "    <tr>\n",
       "      <th>3</th>\n",
       "      <td>49</td>\n",
       "      <td>1</td>\n",
       "      <td>3</td>\n",
       "      <td>0</td>\n",
       "      <td>1</td>\n",
       "      <td>5</td>\n",
       "      <td>2</td>\n",
       "    </tr>\n",
       "    <tr>\n",
       "      <th>4</th>\n",
       "      <td>47</td>\n",
       "      <td>1</td>\n",
       "      <td>11</td>\n",
       "      <td>0</td>\n",
       "      <td>1</td>\n",
       "      <td>5</td>\n",
       "      <td>2</td>\n",
       "    </tr>\n",
       "  </tbody>\n",
       "</table>\n",
       "</div>"
      ],
      "text/plain": [
       "   Age  Gender  Impressions  Clicks  Signed_In age_categories  test val\n",
       "0   36       0            3       0          1              4         2\n",
       "1   73       1            3       0          1              5         2\n",
       "2   30       0            3       0          1              3         2\n",
       "3   49       1            3       0          1              5         2\n",
       "4   47       1           11       0          1              5         2"
      ]
     },
     "execution_count": 73,
     "metadata": {},
     "output_type": "execute_result"
    }
   ],
   "source": [
    "data['test val'] = 2\n",
    "data.head()"
   ]
  },
  {
   "cell_type": "markdown",
   "metadata": {},
   "source": [
    "#### Sorting data"
   ]
  },
  {
   "cell_type": "code",
   "execution_count": 77,
   "metadata": {
    "collapsed": false
   },
   "outputs": [
    {
     "data": {
      "text/html": [
       "<div>\n",
       "<table border=\"1\" class=\"dataframe\">\n",
       "  <thead>\n",
       "    <tr style=\"text-align: right;\">\n",
       "      <th></th>\n",
       "      <th>test val</th>\n",
       "      <th>age_categories</th>\n",
       "      <th>Signed_In</th>\n",
       "      <th>Impressions</th>\n",
       "      <th>Gender</th>\n",
       "      <th>Clicks</th>\n",
       "      <th>Age</th>\n",
       "    </tr>\n",
       "  </thead>\n",
       "  <tbody>\n",
       "    <tr>\n",
       "      <th>0</th>\n",
       "      <td>2</td>\n",
       "      <td>4</td>\n",
       "      <td>1</td>\n",
       "      <td>3</td>\n",
       "      <td>0</td>\n",
       "      <td>0</td>\n",
       "      <td>36</td>\n",
       "    </tr>\n",
       "    <tr>\n",
       "      <th>1</th>\n",
       "      <td>2</td>\n",
       "      <td>5</td>\n",
       "      <td>1</td>\n",
       "      <td>3</td>\n",
       "      <td>1</td>\n",
       "      <td>0</td>\n",
       "      <td>73</td>\n",
       "    </tr>\n",
       "    <tr>\n",
       "      <th>2</th>\n",
       "      <td>2</td>\n",
       "      <td>3</td>\n",
       "      <td>1</td>\n",
       "      <td>3</td>\n",
       "      <td>0</td>\n",
       "      <td>0</td>\n",
       "      <td>30</td>\n",
       "    </tr>\n",
       "    <tr>\n",
       "      <th>3</th>\n",
       "      <td>2</td>\n",
       "      <td>5</td>\n",
       "      <td>1</td>\n",
       "      <td>3</td>\n",
       "      <td>1</td>\n",
       "      <td>0</td>\n",
       "      <td>49</td>\n",
       "    </tr>\n",
       "    <tr>\n",
       "      <th>4</th>\n",
       "      <td>2</td>\n",
       "      <td>5</td>\n",
       "      <td>1</td>\n",
       "      <td>11</td>\n",
       "      <td>1</td>\n",
       "      <td>0</td>\n",
       "      <td>47</td>\n",
       "    </tr>\n",
       "  </tbody>\n",
       "</table>\n",
       "</div>"
      ],
      "text/plain": [
       "   test val age_categories  Signed_In  Impressions  Gender  Clicks  Age\n",
       "0         2              4          1            3       0       0   36\n",
       "1         2              5          1            3       1       0   73\n",
       "2         2              3          1            3       0       0   30\n",
       "3         2              5          1            3       1       0   49\n",
       "4         2              5          1           11       1       0   47"
      ]
     },
     "execution_count": 77,
     "metadata": {},
     "output_type": "execute_result"
    }
   ],
   "source": [
    "data.sort_index(axis=1, ascending=False).head()\n",
    "#Axis = 1 sorting by column"
   ]
  },
  {
   "cell_type": "code",
   "execution_count": 78,
   "metadata": {
    "collapsed": false
   },
   "outputs": [
    {
     "data": {
      "text/html": [
       "<div>\n",
       "<table border=\"1\" class=\"dataframe\">\n",
       "  <thead>\n",
       "    <tr style=\"text-align: right;\">\n",
       "      <th></th>\n",
       "      <th>Age</th>\n",
       "      <th>Gender</th>\n",
       "      <th>Impressions</th>\n",
       "      <th>Clicks</th>\n",
       "      <th>Signed_In</th>\n",
       "      <th>age_categories</th>\n",
       "      <th>test val</th>\n",
       "    </tr>\n",
       "  </thead>\n",
       "  <tbody>\n",
       "    <tr>\n",
       "      <th>458440</th>\n",
       "      <td>0</td>\n",
       "      <td>0</td>\n",
       "      <td>3</td>\n",
       "      <td>0</td>\n",
       "      <td>0</td>\n",
       "      <td>1</td>\n",
       "      <td>2</td>\n",
       "    </tr>\n",
       "    <tr>\n",
       "      <th>149914</th>\n",
       "      <td>0</td>\n",
       "      <td>0</td>\n",
       "      <td>5</td>\n",
       "      <td>0</td>\n",
       "      <td>0</td>\n",
       "      <td>1</td>\n",
       "      <td>2</td>\n",
       "    </tr>\n",
       "    <tr>\n",
       "      <th>149915</th>\n",
       "      <td>0</td>\n",
       "      <td>0</td>\n",
       "      <td>10</td>\n",
       "      <td>1</td>\n",
       "      <td>0</td>\n",
       "      <td>1</td>\n",
       "      <td>2</td>\n",
       "    </tr>\n",
       "    <tr>\n",
       "      <th>149916</th>\n",
       "      <td>0</td>\n",
       "      <td>0</td>\n",
       "      <td>6</td>\n",
       "      <td>1</td>\n",
       "      <td>0</td>\n",
       "      <td>1</td>\n",
       "      <td>2</td>\n",
       "    </tr>\n",
       "    <tr>\n",
       "      <th>353762</th>\n",
       "      <td>0</td>\n",
       "      <td>0</td>\n",
       "      <td>3</td>\n",
       "      <td>0</td>\n",
       "      <td>0</td>\n",
       "      <td>1</td>\n",
       "      <td>2</td>\n",
       "    </tr>\n",
       "  </tbody>\n",
       "</table>\n",
       "</div>"
      ],
      "text/plain": [
       "        Age  Gender  Impressions  Clicks  Signed_In age_categories  test val\n",
       "458440    0       0            3       0          0              1         2\n",
       "149914    0       0            5       0          0              1         2\n",
       "149915    0       0           10       1          0              1         2\n",
       "149916    0       0            6       1          0              1         2\n",
       "353762    0       0            3       0          0              1         2"
      ]
     },
     "execution_count": 78,
     "metadata": {},
     "output_type": "execute_result"
    }
   ],
   "source": [
    "data.sort('Signed_In').head()"
   ]
  },
  {
   "cell_type": "code",
   "execution_count": 79,
   "metadata": {
    "collapsed": false
   },
   "outputs": [
    {
     "data": {
      "text/html": [
       "<div>\n",
       "<table border=\"1\" class=\"dataframe\">\n",
       "  <thead>\n",
       "    <tr style=\"text-align: right;\">\n",
       "      <th></th>\n",
       "      <th>col_a</th>\n",
       "      <th>numeric</th>\n",
       "    </tr>\n",
       "  </thead>\n",
       "  <tbody>\n",
       "    <tr>\n",
       "      <th>0</th>\n",
       "      <td>a</td>\n",
       "      <td>1</td>\n",
       "    </tr>\n",
       "    <tr>\n",
       "      <th>1</th>\n",
       "      <td>b</td>\n",
       "      <td>2</td>\n",
       "    </tr>\n",
       "    <tr>\n",
       "      <th>2</th>\n",
       "      <td>c</td>\n",
       "      <td>3</td>\n",
       "    </tr>\n",
       "  </tbody>\n",
       "</table>\n",
       "</div>"
      ],
      "text/plain": [
       "  col_a  numeric\n",
       "0     a        1\n",
       "1     b        2\n",
       "2     c        3"
      ]
     },
     "execution_count": 79,
     "metadata": {},
     "output_type": "execute_result"
    }
   ],
   "source": [
    "ran_data = [\n",
    "    ['a', 1]\n",
    "    , ['b', 2]\n",
    "    , ['c', 3]\n",
    "]\n",
    "df = pd.DataFrame(ran_data, columns=['col_a', 'numeric'])\n",
    "df"
   ]
  },
  {
   "cell_type": "markdown",
   "metadata": {},
   "source": [
    "#### Indexing functions\n",
    "\n",
    "Pandas Dataframes support various methods for indexing:\n",
    "\n",
    "- .iloc\n",
    "- .loc\n",
    "- .ix"
   ]
  },
  {
   "cell_type": "code",
   "execution_count": 80,
   "metadata": {
    "collapsed": false
   },
   "outputs": [
    {
     "data": {
      "text/html": [
       "<div>\n",
       "<table border=\"1\" class=\"dataframe\">\n",
       "  <thead>\n",
       "    <tr style=\"text-align: right;\">\n",
       "      <th></th>\n",
       "      <th>col_a</th>\n",
       "      <th>numeric</th>\n",
       "    </tr>\n",
       "  </thead>\n",
       "  <tbody>\n",
       "    <tr>\n",
       "      <th>0</th>\n",
       "      <td>a</td>\n",
       "      <td>1</td>\n",
       "    </tr>\n",
       "    <tr>\n",
       "      <th>1</th>\n",
       "      <td>b</td>\n",
       "      <td>2</td>\n",
       "    </tr>\n",
       "    <tr>\n",
       "      <th>2</th>\n",
       "      <td>c</td>\n",
       "      <td>3</td>\n",
       "    </tr>\n",
       "  </tbody>\n",
       "</table>\n",
       "</div>"
      ],
      "text/plain": [
       "  col_a  numeric\n",
       "0     a        1\n",
       "1     b        2\n",
       "2     c        3"
      ]
     },
     "execution_count": 80,
     "metadata": {},
     "output_type": "execute_result"
    }
   ],
   "source": [
    "df"
   ]
  },
  {
   "cell_type": "code",
   "execution_count": null,
   "metadata": {
    "collapsed": false
   },
   "outputs": [],
   "source": [
    "# iloc accesses a row by its row number\n",
    "df.iloc[0]"
   ]
  },
  {
   "cell_type": "code",
   "execution_count": 81,
   "metadata": {
    "collapsed": false
   },
   "outputs": [
    {
     "data": {
      "text/html": [
       "<div>\n",
       "<table border=\"1\" class=\"dataframe\">\n",
       "  <thead>\n",
       "    <tr style=\"text-align: right;\">\n",
       "      <th></th>\n",
       "      <th>numeric</th>\n",
       "    </tr>\n",
       "    <tr>\n",
       "      <th>col_a</th>\n",
       "      <th></th>\n",
       "    </tr>\n",
       "  </thead>\n",
       "  <tbody>\n",
       "    <tr>\n",
       "      <th>a</th>\n",
       "      <td>1</td>\n",
       "    </tr>\n",
       "    <tr>\n",
       "      <th>b</th>\n",
       "      <td>2</td>\n",
       "    </tr>\n",
       "    <tr>\n",
       "      <th>c</th>\n",
       "      <td>3</td>\n",
       "    </tr>\n",
       "  </tbody>\n",
       "</table>\n",
       "</div>"
      ],
      "text/plain": [
       "       numeric\n",
       "col_a         \n",
       "a            1\n",
       "b            2\n",
       "c            3"
      ]
     },
     "execution_count": 81,
     "metadata": {},
     "output_type": "execute_result"
    }
   ],
   "source": [
    "df.set_index('col_a', inplace = True)\n",
    "df"
   ]
  },
  {
   "cell_type": "code",
   "execution_count": 82,
   "metadata": {
    "collapsed": false
   },
   "outputs": [],
   "source": [
    "# loc accesses a dataframe row by its index label (or column label)\n",
    "df.loc['a'] = 5\n",
    "df.loc['b'] = 3"
   ]
  },
  {
   "cell_type": "code",
   "execution_count": 83,
   "metadata": {
    "collapsed": false
   },
   "outputs": [
    {
     "data": {
      "text/html": [
       "<div>\n",
       "<table border=\"1\" class=\"dataframe\">\n",
       "  <thead>\n",
       "    <tr style=\"text-align: right;\">\n",
       "      <th></th>\n",
       "      <th>numeric</th>\n",
       "    </tr>\n",
       "    <tr>\n",
       "      <th>col_a</th>\n",
       "      <th></th>\n",
       "    </tr>\n",
       "  </thead>\n",
       "  <tbody>\n",
       "    <tr>\n",
       "      <th>a</th>\n",
       "      <td>5</td>\n",
       "    </tr>\n",
       "    <tr>\n",
       "      <th>b</th>\n",
       "      <td>3</td>\n",
       "    </tr>\n",
       "    <tr>\n",
       "      <th>c</th>\n",
       "      <td>3</td>\n",
       "    </tr>\n",
       "  </tbody>\n",
       "</table>\n",
       "</div>"
      ],
      "text/plain": [
       "       numeric\n",
       "col_a         \n",
       "a            5\n",
       "b            3\n",
       "c            3"
      ]
     },
     "execution_count": 83,
     "metadata": {},
     "output_type": "execute_result"
    }
   ],
   "source": [
    "df"
   ]
  },
  {
   "cell_type": "code",
   "execution_count": 84,
   "metadata": {
    "collapsed": false
   },
   "outputs": [
    {
     "data": {
      "text/html": [
       "<div>\n",
       "<table border=\"1\" class=\"dataframe\">\n",
       "  <thead>\n",
       "    <tr style=\"text-align: right;\">\n",
       "      <th></th>\n",
       "      <th>numeric</th>\n",
       "      <th>C</th>\n",
       "    </tr>\n",
       "    <tr>\n",
       "      <th>col_a</th>\n",
       "      <th></th>\n",
       "      <th></th>\n",
       "    </tr>\n",
       "  </thead>\n",
       "  <tbody>\n",
       "    <tr>\n",
       "      <th>a</th>\n",
       "      <td>5</td>\n",
       "      <td>5</td>\n",
       "    </tr>\n",
       "    <tr>\n",
       "      <th>b</th>\n",
       "      <td>3</td>\n",
       "      <td>3</td>\n",
       "    </tr>\n",
       "    <tr>\n",
       "      <th>c</th>\n",
       "      <td>3</td>\n",
       "      <td>3</td>\n",
       "    </tr>\n",
       "  </tbody>\n",
       "</table>\n",
       "</div>"
      ],
      "text/plain": [
       "       numeric  C\n",
       "col_a            \n",
       "a            5  5\n",
       "b            3  3\n",
       "c            3  3"
      ]
     },
     "execution_count": 84,
     "metadata": {},
     "output_type": "execute_result"
    }
   ],
   "source": [
    "# This can be used to add new columns\n",
    "df.loc[:,'C'] = df.loc[:,'numeric']\n",
    "\n",
    "df"
   ]
  },
  {
   "cell_type": "code",
   "execution_count": 85,
   "metadata": {
    "collapsed": false
   },
   "outputs": [
    {
     "data": {
      "text/html": [
       "<div>\n",
       "<table border=\"1\" class=\"dataframe\">\n",
       "  <thead>\n",
       "    <tr style=\"text-align: right;\">\n",
       "      <th></th>\n",
       "      <th>numeric</th>\n",
       "      <th>C</th>\n",
       "      <th>D</th>\n",
       "    </tr>\n",
       "    <tr>\n",
       "      <th>col_a</th>\n",
       "      <th></th>\n",
       "      <th></th>\n",
       "      <th></th>\n",
       "    </tr>\n",
       "  </thead>\n",
       "  <tbody>\n",
       "    <tr>\n",
       "      <th>a</th>\n",
       "      <td>5</td>\n",
       "      <td>5</td>\n",
       "      <td>5</td>\n",
       "    </tr>\n",
       "    <tr>\n",
       "      <th>b</th>\n",
       "      <td>3</td>\n",
       "      <td>3</td>\n",
       "      <td>3</td>\n",
       "    </tr>\n",
       "    <tr>\n",
       "      <th>c</th>\n",
       "      <td>3</td>\n",
       "      <td>3</td>\n",
       "      <td>3</td>\n",
       "    </tr>\n",
       "  </tbody>\n",
       "</table>\n",
       "</div>"
      ],
      "text/plain": [
       "       numeric  C  D\n",
       "col_a               \n",
       "a            5  5  5\n",
       "b            3  3  3\n",
       "c            3  3  3"
      ]
     },
     "execution_count": 85,
     "metadata": {},
     "output_type": "execute_result"
    }
   ],
   "source": [
    "# is equivalent to:\n",
    "df['D'] = df.loc[:,'numeric']\n",
    "\n",
    "df"
   ]
  },
  {
   "cell_type": "markdown",
   "metadata": {},
   "source": [
    ".ix is the generic form of indexers\n",
    "\n",
    "Values can be set by index and index + column"
   ]
  },
  {
   "cell_type": "code",
   "execution_count": 90,
   "metadata": {
    "collapsed": false
   },
   "outputs": [
    {
     "data": {
      "text/html": [
       "<div>\n",
       "<table border=\"1\" class=\"dataframe\">\n",
       "  <thead>\n",
       "    <tr style=\"text-align: right;\">\n",
       "      <th></th>\n",
       "      <th>numeric</th>\n",
       "      <th>C</th>\n",
       "      <th>D</th>\n",
       "    </tr>\n",
       "    <tr>\n",
       "      <th>col_a</th>\n",
       "      <th></th>\n",
       "      <th></th>\n",
       "      <th></th>\n",
       "    </tr>\n",
       "  </thead>\n",
       "  <tbody>\n",
       "    <tr>\n",
       "      <th>a</th>\n",
       "      <td>5</td>\n",
       "      <td>5</td>\n",
       "      <td>5</td>\n",
       "    </tr>\n",
       "    <tr>\n",
       "      <th>b</th>\n",
       "      <td>3</td>\n",
       "      <td>3</td>\n",
       "      <td>3</td>\n",
       "    </tr>\n",
       "    <tr>\n",
       "      <th>c</th>\n",
       "      <td>2</td>\n",
       "      <td>3</td>\n",
       "      <td>2</td>\n",
       "    </tr>\n",
       "  </tbody>\n",
       "</table>\n",
       "</div>"
      ],
      "text/plain": [
       "       numeric  C  D\n",
       "col_a               \n",
       "a            5  5  5\n",
       "b            3  3  3\n",
       "c            2  3  2"
      ]
     },
     "execution_count": 90,
     "metadata": {},
     "output_type": "execute_result"
    }
   ],
   "source": [
    "df.ix[2] = 2\n",
    "#setting all 3rd rows to 2\n",
    "df.ix[2, 'C'] = 3\n",
    "#setting the same row , column C to 3\n",
    "\n",
    "df"
   ]
  },
  {
   "cell_type": "markdown",
   "metadata": {},
   "source": [
    "### Combining DataFrames\n",
    "#### Appending\n",
    "We can append dataframes together"
   ]
  },
  {
   "cell_type": "code",
   "execution_count": 91,
   "metadata": {
    "collapsed": false
   },
   "outputs": [
    {
     "data": {
      "text/html": [
       "<div>\n",
       "<table border=\"1\" class=\"dataframe\">\n",
       "  <thead>\n",
       "    <tr style=\"text-align: right;\">\n",
       "      <th></th>\n",
       "      <th>numeric</th>\n",
       "      <th>C</th>\n",
       "      <th>D</th>\n",
       "    </tr>\n",
       "    <tr>\n",
       "      <th>col_a</th>\n",
       "      <th></th>\n",
       "      <th></th>\n",
       "      <th></th>\n",
       "    </tr>\n",
       "  </thead>\n",
       "  <tbody>\n",
       "    <tr>\n",
       "      <th>a</th>\n",
       "      <td>5</td>\n",
       "      <td>5</td>\n",
       "      <td>5</td>\n",
       "    </tr>\n",
       "    <tr>\n",
       "      <th>b</th>\n",
       "      <td>3</td>\n",
       "      <td>3</td>\n",
       "      <td>3</td>\n",
       "    </tr>\n",
       "    <tr>\n",
       "      <th>c</th>\n",
       "      <td>2</td>\n",
       "      <td>3</td>\n",
       "      <td>2</td>\n",
       "    </tr>\n",
       "    <tr>\n",
       "      <th>a</th>\n",
       "      <td>5</td>\n",
       "      <td>5</td>\n",
       "      <td>5</td>\n",
       "    </tr>\n",
       "    <tr>\n",
       "      <th>b</th>\n",
       "      <td>3</td>\n",
       "      <td>3</td>\n",
       "      <td>3</td>\n",
       "    </tr>\n",
       "    <tr>\n",
       "      <th>c</th>\n",
       "      <td>2</td>\n",
       "      <td>3</td>\n",
       "      <td>2</td>\n",
       "    </tr>\n",
       "  </tbody>\n",
       "</table>\n",
       "</div>"
      ],
      "text/plain": [
       "       numeric  C  D\n",
       "col_a               \n",
       "a            5  5  5\n",
       "b            3  3  3\n",
       "c            2  3  2\n",
       "a            5  5  5\n",
       "b            3  3  3\n",
       "c            2  3  2"
      ]
     },
     "execution_count": 91,
     "metadata": {},
     "output_type": "execute_result"
    }
   ],
   "source": [
    "df_combine = df.append(df)\n",
    "df_combine"
   ]
  },
  {
   "cell_type": "code",
   "execution_count": 92,
   "metadata": {
    "collapsed": false
   },
   "outputs": [
    {
     "data": {
      "text/html": [
       "<div>\n",
       "<table border=\"1\" class=\"dataframe\">\n",
       "  <thead>\n",
       "    <tr style=\"text-align: right;\">\n",
       "      <th></th>\n",
       "      <th>col_a</th>\n",
       "      <th>numeric</th>\n",
       "      <th>C</th>\n",
       "      <th>D</th>\n",
       "    </tr>\n",
       "  </thead>\n",
       "  <tbody>\n",
       "    <tr>\n",
       "      <th>0</th>\n",
       "      <td>a</td>\n",
       "      <td>5</td>\n",
       "      <td>5</td>\n",
       "      <td>5</td>\n",
       "    </tr>\n",
       "    <tr>\n",
       "      <th>1</th>\n",
       "      <td>b</td>\n",
       "      <td>3</td>\n",
       "      <td>3</td>\n",
       "      <td>3</td>\n",
       "    </tr>\n",
       "    <tr>\n",
       "      <th>2</th>\n",
       "      <td>c</td>\n",
       "      <td>2</td>\n",
       "      <td>3</td>\n",
       "      <td>2</td>\n",
       "    </tr>\n",
       "    <tr>\n",
       "      <th>3</th>\n",
       "      <td>a</td>\n",
       "      <td>5</td>\n",
       "      <td>5</td>\n",
       "      <td>5</td>\n",
       "    </tr>\n",
       "    <tr>\n",
       "      <th>4</th>\n",
       "      <td>b</td>\n",
       "      <td>3</td>\n",
       "      <td>3</td>\n",
       "      <td>3</td>\n",
       "    </tr>\n",
       "    <tr>\n",
       "      <th>5</th>\n",
       "      <td>c</td>\n",
       "      <td>2</td>\n",
       "      <td>3</td>\n",
       "      <td>2</td>\n",
       "    </tr>\n",
       "  </tbody>\n",
       "</table>\n",
       "</div>"
      ],
      "text/plain": [
       "  col_a  numeric  C  D\n",
       "0     a        5  5  5\n",
       "1     b        3  3  3\n",
       "2     c        2  3  2\n",
       "3     a        5  5  5\n",
       "4     b        3  3  3\n",
       "5     c        2  3  2"
      ]
     },
     "execution_count": 92,
     "metadata": {},
     "output_type": "execute_result"
    }
   ],
   "source": [
    "# When DataFrames are appended together, we often need to create a new index\n",
    "df_combine.reset_index()"
   ]
  },
  {
   "cell_type": "markdown",
   "metadata": {},
   "source": [
    "#### Join lets us join together dataframes using their index"
   ]
  },
  {
   "cell_type": "code",
   "execution_count": 94,
   "metadata": {
    "collapsed": false
   },
   "outputs": [
    {
     "data": {
      "text/html": [
       "<div>\n",
       "<table border=\"1\" class=\"dataframe\">\n",
       "  <thead>\n",
       "    <tr style=\"text-align: right;\">\n",
       "      <th></th>\n",
       "      <th>col</th>\n",
       "    </tr>\n",
       "  </thead>\n",
       "  <tbody>\n",
       "    <tr>\n",
       "      <th>0</th>\n",
       "      <td>1</td>\n",
       "    </tr>\n",
       "    <tr>\n",
       "      <th>1</th>\n",
       "      <td>2</td>\n",
       "    </tr>\n",
       "    <tr>\n",
       "      <th>2</th>\n",
       "      <td>3</td>\n",
       "    </tr>\n",
       "  </tbody>\n",
       "</table>\n",
       "</div>"
      ],
      "text/plain": [
       "   col\n",
       "0    1\n",
       "1    2\n",
       "2    3"
      ]
     },
     "execution_count": 94,
     "metadata": {},
     "output_type": "execute_result"
    }
   ],
   "source": [
    "df_2 = pd.DataFrame([1, 2, 3], columns=['col'])\n",
    "df_2"
   ]
  },
  {
   "cell_type": "code",
   "execution_count": 95,
   "metadata": {
    "collapsed": false
   },
   "outputs": [
    {
     "data": {
      "text/html": [
       "<div>\n",
       "<table border=\"1\" class=\"dataframe\">\n",
       "  <thead>\n",
       "    <tr style=\"text-align: right;\">\n",
       "      <th></th>\n",
       "      <th>numeric</th>\n",
       "      <th>C</th>\n",
       "      <th>D</th>\n",
       "      <th>col</th>\n",
       "    </tr>\n",
       "    <tr>\n",
       "      <th>col_a</th>\n",
       "      <th></th>\n",
       "      <th></th>\n",
       "      <th></th>\n",
       "      <th></th>\n",
       "    </tr>\n",
       "  </thead>\n",
       "  <tbody>\n",
       "    <tr>\n",
       "      <th>a</th>\n",
       "      <td>5</td>\n",
       "      <td>5</td>\n",
       "      <td>5</td>\n",
       "      <td>NaN</td>\n",
       "    </tr>\n",
       "    <tr>\n",
       "      <th>b</th>\n",
       "      <td>3</td>\n",
       "      <td>3</td>\n",
       "      <td>3</td>\n",
       "      <td>NaN</td>\n",
       "    </tr>\n",
       "    <tr>\n",
       "      <th>c</th>\n",
       "      <td>2</td>\n",
       "      <td>3</td>\n",
       "      <td>2</td>\n",
       "      <td>NaN</td>\n",
       "    </tr>\n",
       "  </tbody>\n",
       "</table>\n",
       "</div>"
      ],
      "text/plain": [
       "       numeric  C  D  col\n",
       "col_a                    \n",
       "a            5  5  5  NaN\n",
       "b            3  3  3  NaN\n",
       "c            2  3  2  NaN"
      ]
     },
     "execution_count": 95,
     "metadata": {},
     "output_type": "execute_result"
    }
   ],
   "source": [
    "# The default is left join, so Null values are placed\n",
    "# where values are misssing\n",
    "df.join(df_2)\n"
   ]
  },
  {
   "cell_type": "code",
   "execution_count": 96,
   "metadata": {
    "collapsed": false
   },
   "outputs": [
    {
     "data": {
      "text/html": [
       "<div>\n",
       "<table border=\"1\" class=\"dataframe\">\n",
       "  <thead>\n",
       "    <tr style=\"text-align: right;\">\n",
       "      <th></th>\n",
       "      <th>col_a</th>\n",
       "      <th>numeric</th>\n",
       "      <th>C</th>\n",
       "      <th>D</th>\n",
       "    </tr>\n",
       "  </thead>\n",
       "  <tbody>\n",
       "    <tr>\n",
       "      <th>0</th>\n",
       "      <td>a</td>\n",
       "      <td>5</td>\n",
       "      <td>5</td>\n",
       "      <td>5</td>\n",
       "    </tr>\n",
       "    <tr>\n",
       "      <th>1</th>\n",
       "      <td>b</td>\n",
       "      <td>3</td>\n",
       "      <td>3</td>\n",
       "      <td>3</td>\n",
       "    </tr>\n",
       "    <tr>\n",
       "      <th>2</th>\n",
       "      <td>c</td>\n",
       "      <td>2</td>\n",
       "      <td>3</td>\n",
       "      <td>2</td>\n",
       "    </tr>\n",
       "  </tbody>\n",
       "</table>\n",
       "</div>"
      ],
      "text/plain": [
       "  col_a  numeric  C  D\n",
       "0     a        5  5  5\n",
       "1     b        3  3  3\n",
       "2     c        2  3  2"
      ]
     },
     "execution_count": 96,
     "metadata": {},
     "output_type": "execute_result"
    }
   ],
   "source": [
    "# reset the index\n",
    "df_1 = df.reset_index()\n",
    "df_1"
   ]
  },
  {
   "cell_type": "code",
   "execution_count": null,
   "metadata": {
    "collapsed": false
   },
   "outputs": [],
   "source": [
    "# try joining again:\n",
    "df_1.join(df_2)\n"
   ]
  },
  {
   "cell_type": "markdown",
   "metadata": {},
   "source": [
    "#### Merge allows us to join on any fields"
   ]
  },
  {
   "cell_type": "code",
   "execution_count": 97,
   "metadata": {
    "collapsed": false
   },
   "outputs": [
    {
     "data": {
      "text/html": [
       "<div>\n",
       "<table border=\"1\" class=\"dataframe\">\n",
       "  <thead>\n",
       "    <tr style=\"text-align: right;\">\n",
       "      <th></th>\n",
       "      <th>numeric</th>\n",
       "      <th>C</th>\n",
       "      <th>D</th>\n",
       "      <th>col</th>\n",
       "    </tr>\n",
       "  </thead>\n",
       "  <tbody>\n",
       "    <tr>\n",
       "      <th>0</th>\n",
       "      <td>3</td>\n",
       "      <td>3</td>\n",
       "      <td>3</td>\n",
       "      <td>3</td>\n",
       "    </tr>\n",
       "    <tr>\n",
       "      <th>1</th>\n",
       "      <td>2</td>\n",
       "      <td>3</td>\n",
       "      <td>2</td>\n",
       "      <td>2</td>\n",
       "    </tr>\n",
       "  </tbody>\n",
       "</table>\n",
       "</div>"
      ],
      "text/plain": [
       "   numeric  C  D  col\n",
       "0        3  3  3    3\n",
       "1        2  3  2    2"
      ]
     },
     "execution_count": 97,
     "metadata": {},
     "output_type": "execute_result"
    }
   ],
   "source": [
    "# Merge has a default of inner join\n",
    "# So where the join misses rows are omitted\n",
    "#left on left data frame, right on right data frame\n",
    "df.merge(df_2, left_on='numeric', right_on='col')"
   ]
  },
  {
   "cell_type": "markdown",
   "metadata": {},
   "source": [
    "### Concat combines a list of DataFrames together"
   ]
  },
  {
   "cell_type": "code",
   "execution_count": 98,
   "metadata": {
    "collapsed": false
   },
   "outputs": [
    {
     "data": {
      "text/html": [
       "<div>\n",
       "<table border=\"1\" class=\"dataframe\">\n",
       "  <thead>\n",
       "    <tr style=\"text-align: right;\">\n",
       "      <th></th>\n",
       "      <th>numeric</th>\n",
       "      <th>C</th>\n",
       "      <th>D</th>\n",
       "    </tr>\n",
       "    <tr>\n",
       "      <th>col_a</th>\n",
       "      <th></th>\n",
       "      <th></th>\n",
       "      <th></th>\n",
       "    </tr>\n",
       "  </thead>\n",
       "  <tbody>\n",
       "    <tr>\n",
       "      <th>a</th>\n",
       "      <td>5</td>\n",
       "      <td>5</td>\n",
       "      <td>5</td>\n",
       "    </tr>\n",
       "    <tr>\n",
       "      <th>b</th>\n",
       "      <td>3</td>\n",
       "      <td>3</td>\n",
       "      <td>3</td>\n",
       "    </tr>\n",
       "    <tr>\n",
       "      <th>c</th>\n",
       "      <td>2</td>\n",
       "      <td>3</td>\n",
       "      <td>2</td>\n",
       "    </tr>\n",
       "    <tr>\n",
       "      <th>a</th>\n",
       "      <td>5</td>\n",
       "      <td>5</td>\n",
       "      <td>5</td>\n",
       "    </tr>\n",
       "    <tr>\n",
       "      <th>b</th>\n",
       "      <td>3</td>\n",
       "      <td>3</td>\n",
       "      <td>3</td>\n",
       "    </tr>\n",
       "    <tr>\n",
       "      <th>c</th>\n",
       "      <td>2</td>\n",
       "      <td>3</td>\n",
       "      <td>2</td>\n",
       "    </tr>\n",
       "  </tbody>\n",
       "</table>\n",
       "</div>"
      ],
      "text/plain": [
       "       numeric  C  D\n",
       "col_a               \n",
       "a            5  5  5\n",
       "b            3  3  3\n",
       "c            2  3  2\n",
       "a            5  5  5\n",
       "b            3  3  3\n",
       "c            2  3  2"
      ]
     },
     "execution_count": 98,
     "metadata": {},
     "output_type": "execute_result"
    }
   ],
   "source": [
    "# It can be used like append\n",
    "pd.concat([df, df])"
   ]
  },
  {
   "cell_type": "code",
   "execution_count": 99,
   "metadata": {
    "collapsed": false
   },
   "outputs": [
    {
     "data": {
      "text/html": [
       "<div>\n",
       "<table border=\"1\" class=\"dataframe\">\n",
       "  <thead>\n",
       "    <tr style=\"text-align: right;\">\n",
       "      <th></th>\n",
       "      <th>C</th>\n",
       "      <th>D</th>\n",
       "      <th>col</th>\n",
       "      <th>numeric</th>\n",
       "    </tr>\n",
       "    <tr>\n",
       "      <th>col_a</th>\n",
       "      <th></th>\n",
       "      <th></th>\n",
       "      <th></th>\n",
       "      <th></th>\n",
       "    </tr>\n",
       "  </thead>\n",
       "  <tbody>\n",
       "    <tr>\n",
       "      <th>a</th>\n",
       "      <td>5</td>\n",
       "      <td>5</td>\n",
       "      <td>NaN</td>\n",
       "      <td>5</td>\n",
       "    </tr>\n",
       "    <tr>\n",
       "      <th>b</th>\n",
       "      <td>3</td>\n",
       "      <td>3</td>\n",
       "      <td>NaN</td>\n",
       "      <td>3</td>\n",
       "    </tr>\n",
       "    <tr>\n",
       "      <th>c</th>\n",
       "      <td>3</td>\n",
       "      <td>2</td>\n",
       "      <td>NaN</td>\n",
       "      <td>2</td>\n",
       "    </tr>\n",
       "    <tr>\n",
       "      <th>0</th>\n",
       "      <td>NaN</td>\n",
       "      <td>NaN</td>\n",
       "      <td>1</td>\n",
       "      <td>NaN</td>\n",
       "    </tr>\n",
       "    <tr>\n",
       "      <th>1</th>\n",
       "      <td>NaN</td>\n",
       "      <td>NaN</td>\n",
       "      <td>2</td>\n",
       "      <td>NaN</td>\n",
       "    </tr>\n",
       "    <tr>\n",
       "      <th>2</th>\n",
       "      <td>NaN</td>\n",
       "      <td>NaN</td>\n",
       "      <td>3</td>\n",
       "      <td>NaN</td>\n",
       "    </tr>\n",
       "  </tbody>\n",
       "</table>\n",
       "</div>"
      ],
      "text/plain": [
       "        C   D  col  numeric\n",
       "col_a                      \n",
       "a       5   5  NaN        5\n",
       "b       3   3  NaN        3\n",
       "c       3   2  NaN        2\n",
       "0     NaN NaN    1      NaN\n",
       "1     NaN NaN    2      NaN\n",
       "2     NaN NaN    3      NaN"
      ]
     },
     "execution_count": 99,
     "metadata": {},
     "output_type": "execute_result"
    }
   ],
   "source": [
    "# But concat will create a spare DataFrame when columns don't match\n",
    "# This can create huge dataframes when mismatches occur\n",
    "pd.concat([df, df_2])"
   ]
  },
  {
   "cell_type": "markdown",
   "metadata": {},
   "source": [
    "## Exercise 2\n",
    "### Combining numpy and pandas"
   ]
  },
  {
   "cell_type": "markdown",
   "metadata": {},
   "source": [
    "1) Create 2 arrays of integers\n",
    "\n",
    "One should be created using np.random"
   ]
  },
  {
   "cell_type": "code",
   "execution_count": 107,
   "metadata": {
    "collapsed": false
   },
   "outputs": [
    {
     "ename": "ValueError",
     "evalue": "total size of new array must be unchanged",
     "output_type": "error",
     "traceback": [
      "\u001b[0;31m---------------------------------------------------------------------------\u001b[0m",
      "\u001b[0;31mValueError\u001b[0m                                Traceback (most recent call last)",
      "\u001b[0;32m<ipython-input-107-83acfdaec678>\u001b[0m in \u001b[0;36m<module>\u001b[0;34m()\u001b[0m\n\u001b[0;32m----> 1\u001b[0;31m \u001b[0mvector\u001b[0m \u001b[0;34m=\u001b[0m \u001b[0mnp\u001b[0m\u001b[0;34m.\u001b[0m\u001b[0marray\u001b[0m\u001b[0;34m(\u001b[0m\u001b[0;36m10\u001b[0m\u001b[0;34m)\u001b[0m\u001b[0;34m.\u001b[0m\u001b[0mreshape\u001b[0m\u001b[0;34m(\u001b[0m\u001b[0;36m2\u001b[0m\u001b[0;34m,\u001b[0m\u001b[0;36m5\u001b[0m\u001b[0;34m)\u001b[0m\u001b[0;34m\u001b[0m\u001b[0m\n\u001b[0m\u001b[1;32m      2\u001b[0m \u001b[0mvector2\u001b[0m \u001b[0;34m=\u001b[0m \u001b[0mnp\u001b[0m\u001b[0;34m.\u001b[0m\u001b[0mrandom\u001b[0m\u001b[0;34m.\u001b[0m\u001b[0mrand\u001b[0m\u001b[0;34m(\u001b[0m\u001b[0;36m8\u001b[0m\u001b[0;34m,\u001b[0m\u001b[0;36m2\u001b[0m\u001b[0;34m)\u001b[0m\u001b[0;34m\u001b[0m\u001b[0m\n\u001b[1;32m      3\u001b[0m \u001b[0;32mprint\u001b[0m \u001b[0mvector\u001b[0m\u001b[0;34m\u001b[0m\u001b[0m\n\u001b[1;32m      4\u001b[0m \u001b[0;32mprint\u001b[0m \u001b[0mvector2\u001b[0m\u001b[0;34m\u001b[0m\u001b[0m\n",
      "\u001b[0;31mValueError\u001b[0m: total size of new array must be unchanged"
     ]
    }
   ],
   "source": [
    "vector = np.array(10).reshape(2,5)\n",
    "vector2 = np.random.rand(8,2)\n",
    "print vector\n",
    "print vector2"
   ]
  },
  {
   "cell_type": "markdown",
   "metadata": {},
   "source": [
    "2) Turn those arrays into pandas DataFrames\n",
    "\n",
    "The columns can be named numerically"
   ]
  },
  {
   "cell_type": "code",
   "execution_count": 105,
   "metadata": {
    "collapsed": false
   },
   "outputs": [],
   "source": [
    "stack = np.vstack((vector, vector2))\n",
    "df_1 = pd.Dataframe\n"
   ]
  },
  {
   "cell_type": "markdown",
   "metadata": {},
   "source": [
    "3) Use some of the summary functions on the dataframes and arrays\n",
    "\n",
    "Show how mean and var give the same response in python and numpy"
   ]
  },
  {
   "cell_type": "code",
   "execution_count": null,
   "metadata": {
    "collapsed": true
   },
   "outputs": [],
   "source": []
  },
  {
   "cell_type": "markdown",
   "metadata": {},
   "source": [
    "\n",
    "4) Add an extra index using .loc"
   ]
  },
  {
   "cell_type": "code",
   "execution_count": null,
   "metadata": {
    "collapsed": true
   },
   "outputs": [],
   "source": []
  },
  {
   "cell_type": "markdown",
   "metadata": {},
   "source": [
    "5) Using merge or join, create a single DataFrame from the two"
   ]
  },
  {
   "cell_type": "code",
   "execution_count": null,
   "metadata": {
    "collapsed": true
   },
   "outputs": [],
   "source": []
  },
  {
   "cell_type": "markdown",
   "metadata": {},
   "source": [
    "6) Try testing out the groupby functions\n",
    "\n",
    "df.groupby(column).agg (agg can be an aggregate function, try sum, max, min...)\n",
    "\n",
    "Resources can be found here: http://pandas.pydata.org/pandas-docs/stable/10min.html#grouping\n"
   ]
  },
  {
   "cell_type": "code",
   "execution_count": null,
   "metadata": {
    "collapsed": true
   },
   "outputs": [],
   "source": []
  },
  {
   "cell_type": "markdown",
   "metadata": {},
   "source": [
    "## Plotting!"
   ]
  },
  {
   "cell_type": "code",
   "execution_count": null,
   "metadata": {
    "collapsed": false
   },
   "outputs": [],
   "source": [
    "import pandas.io.data\n",
    "import datetime\n",
    "import matplotlib.pyplot as plt\n",
    "\n",
    "%matplotlib inline\n",
    "\n",
    "mu, sigma = 0, 0.1\n",
    "normal_dist = np.random.normal(mu, sigma, 1000)\n",
    "aapl = pd.io.data.get_data_yahoo('FB', \n",
    "                                 start=datetime.datetime(2015, 4, 1), \n",
    "                                 end=datetime.datetime(2015, 4, 28))\n",
    "aapl.head()"
   ]
  },
  {
   "cell_type": "markdown",
   "metadata": {},
   "source": [
    "## MatPlotLib\n",
    "\n",
    "MatPlotLib is a standard, granular method for building visualizations. Although tried and true, it can be cumbersome compared to other higher level packages such as Seaborn or Bokeh. Note most visualization packages use matplotlib as their base."
   ]
  },
  {
   "cell_type": "code",
   "execution_count": null,
   "metadata": {
    "collapsed": false
   },
   "outputs": [],
   "source": [
    "fig = plt.figure(figsize=(20,16))\n",
    "\n",
    "ax = fig.add_subplot(2,2,1)\n",
    "ax.plot(aapl.index, aapl['Close'])\n",
    "ax.set_title('Line plots', size=24)\n",
    "\n",
    "ax = fig.add_subplot(2,2,2)\n",
    "ax.plot(aapl['Close'], 'o')\n",
    "ax.set_title('Scatter plots', size=24)\n",
    "\n",
    "ax = fig.add_subplot(2,2,3)\n",
    "ax.hist(normal_dist, bins=50)\n",
    "ax.set_title('Histograms', size=24)\n",
    "ax.set_xlabel('count', size=16)\n",
    "\n",
    "ax = fig.add_subplot(2,2,4)\n",
    "ax.boxplot(normal_dist)\n",
    "ax.set_title('Boxplots', size=24)"
   ]
  },
  {
   "cell_type": "markdown",
   "metadata": {},
   "source": [
    "### Bokeh\n",
    "To install Bokeh, go to a terminal and type:\n",
    "\n",
    "`conda install bokeh` \n",
    "\n",
    "Bokeh is built by the same people that created Anaconda (Continuum Analytics) and is designed out of the box for web display, making it nice for creating presentation ready, interactive visuals quickly. Labs in this course will be shown in Bokeh. Checkout http://bokeh.pydata.org/en/latest/docs/quickstart.html#concepts to see some of the range of capabilities."
   ]
  },
  {
   "cell_type": "code",
   "execution_count": null,
   "metadata": {
    "collapsed": false
   },
   "outputs": [],
   "source": [
    "from bokeh.plotting import figure, output_notebook,show\n",
    "output_notebook()"
   ]
  },
  {
   "cell_type": "code",
   "execution_count": null,
   "metadata": {
    "collapsed": false
   },
   "outputs": [],
   "source": [
    "# prepare some data\n",
    "x = aapl.Low\n",
    "y = aapl['High']\n",
    "\n",
    "# create a new plot with a title and axis labels\n",
    "p = figure(title=\"Stock High vs. Low\", x_axis_label='Low', y_axis_label='High')\n",
    "\n",
    "# add a line renderer with legend and line thickness\n",
    "p.circle(x, y, legend=\"High vs. Low\", line_width=2)\n",
    "\n",
    "# show the results\n",
    "show(p)"
   ]
  },
  {
   "cell_type": "code",
   "execution_count": null,
   "metadata": {
    "collapsed": false
   },
   "outputs": [],
   "source": [
    "x = aapl.index\n",
    "y = aapl.Close\n",
    "p = figure(title=\"Stock Open & Close over time\", x_axis_label='Date', y_axis_label='High',x_axis_type=\"datetime\")\n",
    "# Note that I've declared the x_axis_type\n",
    "p.square(x, y, legend=\"Close\")\n",
    "p.circle(x,aapl.Open,legend='Open',color='red')\n",
    "# show the results\n",
    "show(p)"
   ]
  },
  {
   "cell_type": "markdown",
   "metadata": {},
   "source": [
    "## Pandas Plotting!\n",
    "\n",
    "The plot method is a great, quick way to visualize your dataframes. By selecting the columns you care to view, calling .plot() on the dataframe defaults to a line chart vs. the index.\n",
    "\n",
    "We will be revisiting this so just take a second to appreciate what can be done with one line of code."
   ]
  },
  {
   "cell_type": "code",
   "execution_count": null,
   "metadata": {
    "collapsed": false
   },
   "outputs": [],
   "source": [
    "aapl[['Open','Close']].plot()"
   ]
  },
  {
   "cell_type": "code",
   "execution_count": null,
   "metadata": {
    "collapsed": false
   },
   "outputs": [],
   "source": [
    "aapl[['High','Low','Open','Close']].plot(kind='box')"
   ]
  },
  {
   "cell_type": "code",
   "execution_count": null,
   "metadata": {
    "collapsed": true
   },
   "outputs": [],
   "source": []
  }
 ],
 "metadata": {
  "kernelspec": {
   "display_name": "Python 2",
   "language": "python",
   "name": "python2"
  },
  "language_info": {
   "codemirror_mode": {
    "name": "ipython",
    "version": 2
   },
   "file_extension": ".py",
   "mimetype": "text/x-python",
   "name": "python",
   "nbconvert_exporter": "python",
   "pygments_lexer": "ipython2",
   "version": "2.7.10"
  }
 },
 "nbformat": 4,
 "nbformat_minor": 0
}
